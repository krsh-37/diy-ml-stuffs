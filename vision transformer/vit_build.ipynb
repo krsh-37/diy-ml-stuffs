{
 "cells": [
  {
   "cell_type": "code",
   "execution_count": 3,
   "id": "7e74f8e1",
   "metadata": {},
   "outputs": [],
   "source": [
    "import torch\n",
    "import torch.nn as nn\n",
    "import torch.nn.functional as F\n",
    "\n",
    "import numpy as np"
   ]
  },
  {
   "cell_type": "markdown",
   "id": "8e0f2721",
   "metadata": {},
   "source": [
    "\n",
    "We are gonna split image into patches and consider those as time steps and do the attn\n",
    "\n",
    "\n",
    "- n_patches -> time step -> T\n",
    "\n",
    "- (image channels * Height * Width) will be convoluted and converted to emb_dim/ d_model dimension\n"
   ]
  },
  {
   "cell_type": "code",
   "execution_count": 37,
   "id": "e6e77fe6",
   "metadata": {},
   "outputs": [
    {
     "data": {
      "text/plain": [
       "torch.Size([2, 196, 768])"
      ]
     },
     "execution_count": 37,
     "metadata": {},
     "output_type": "execute_result"
    }
   ],
   "source": [
    "class PositionalEmbedding(nn.Module):\n",
    "    \"\"\"\n",
    "    receives (B n_patches emb_dim)\n",
    "    1. create pos emb learnable param based on pooling type. \n",
    "        1.1. initialize cls token if pooling type is cls. \n",
    "        1.2 for cls we need to add extra 1 more pos. else n_patches\n",
    "    2. add pos emb to x and return\n",
    "    \"\"\"\n",
    "    def __init__(self, emb_dim = 768, n_patches = 196, pooling_type = \"cls\"):\n",
    "        super().__init__()\n",
    "        n_tokens = (n_patches+1) if pooling_type == \"cls\" else n_patches\n",
    "        self.pooling_type = pooling_type\n",
    "\n",
    "        if pooling_type == \"cls\":\n",
    "            self.cls_token = nn.Parameter( torch.zeros( 1, 1, emb_dim ) )         # (B 1 emb_dim)\n",
    "            nn.init.trunc_normal_(self.cls_token, std=0.02)\n",
    "\n",
    "        self.pos_emb = nn.Parameter( torch.zeros(1, n_tokens, emb_dim) )          # (B T emb_dim)\n",
    "        nn.init.trunc_normal_(self.pos_emb, std=0.02)\n",
    "    \n",
    "    def forward(self, x):\n",
    "        if self.pooling_type == \"cls\":\n",
    "            # expand for all the batches, since broadcasting wont happen across batch in torch.cat\n",
    "            cls_token = self.cls_token.expand( x.shape[0], -1, -1 )\n",
    "            x = torch.cat((cls_token, x), dim=1 )\n",
    "        return x + self.pos_emb\n",
    "\n",
    "pos_emb = PositionalEmbedding(pooling_type=\"avg\")\n",
    "x = torch.randn( size=(2, 196, 768) )\n",
    "pos_emb(x).shape"
   ]
  },
  {
   "cell_type": "code",
   "execution_count": 38,
   "id": "ab56fb7c",
   "metadata": {},
   "outputs": [
    {
     "data": {
      "text/plain": [
       "torch.Size([2, 196, 768])"
      ]
     },
     "execution_count": 38,
     "metadata": {},
     "output_type": "execute_result"
    }
   ],
   "source": [
    "class PatchEmbedding(nn.Module):\n",
    "    \"\"\"\n",
    "    receives (B C H W)\n",
    "    - conv (C H W) input into n_patches of emb_dim\n",
    "    \"\"\"\n",
    "    def __init__(self, emb_dim=768, patch_size=16,\n",
    "                 in_channels=3, img_size=224, bias = True):\n",
    "        super().__init__()\n",
    "        self.emb_dim, self.patch_size, self.in_channels, self.img_size = (emb_dim, patch_size,\n",
    "                 in_channels, img_size)\n",
    "        self.n_patches = ( img_size // patch_size ) ** 2\n",
    "        self.proj = nn.Conv2d( in_channels=in_channels, out_channels=emb_dim,\n",
    "                                  kernel_size=patch_size, stride = patch_size, bias=bias )\n",
    "    \n",
    "    def forward(self, x):\n",
    "        x = self.proj(x)                # (B C H W ) -> (B, emd_dim, sqrt(n_patches), sqrt(n_patches))\n",
    "        x = x.flatten(2)                # abve to (B emd_dim n_patches)\n",
    "        x = x.transpose(1, 2)           # to (B n_patches emb_dim)\n",
    "        return x\n",
    "\n",
    "pe = PatchEmbedding()\n",
    "x = torch.randn( size=(2, 3, 224, 224) )\n",
    "pe(x).shape"
   ]
  },
  {
   "cell_type": "code",
   "execution_count": 39,
   "id": "23ef89d3",
   "metadata": {},
   "outputs": [
    {
     "data": {
      "text/plain": [
       "torch.Size([2, 196, 768])"
      ]
     },
     "execution_count": 39,
     "metadata": {},
     "output_type": "execute_result"
    }
   ],
   "source": [
    "class FeedForward(nn.Module):\n",
    "    \"\"\"\n",
    "    input: (B T C); regular ff\n",
    "    \"\"\"\n",
    "    def __init__(self, emb_dim=768, mlp_ratio = 4, ff_drop = 0):\n",
    "        super().__init__()\n",
    "        self.proj_in = nn.Linear(emb_dim, mlp_ratio * emb_dim)\n",
    "        self.act = nn.GELU()\n",
    "        self.proj_out = nn.Linear(mlp_ratio * emb_dim, emb_dim)\n",
    "        self.ff_drop = nn.Dropout(ff_drop)\n",
    "\n",
    "    def forward(self, x):\n",
    "        x = self.act( self.proj_in(x) )\n",
    "        x = self.ff_drop(x)\n",
    "        x = self.proj_out(x)\n",
    "        return self.ff_drop(x)\n",
    "\n",
    "ff = FeedForward()\n",
    "x = torch.randn( size=(2, 196, 768) )\n",
    "ff(x).shape"
   ]
  },
  {
   "cell_type": "code",
   "execution_count": 41,
   "id": "4b5c6c01",
   "metadata": {},
   "outputs": [
    {
     "data": {
      "text/plain": [
       "torch.Size([2, 196, 768])"
      ]
     },
     "execution_count": 41,
     "metadata": {},
     "output_type": "execute_result"
    }
   ],
   "source": [
    "class Block(nn.Module):\n",
    "    def __init__(self, emb_dim=768, n_heads=12, dropout=0.1):\n",
    "        super().__init__()\n",
    "        self.attn_norm = nn.LayerNorm(emb_dim)\n",
    "        self.attn = nn.MultiheadAttention(embed_dim=emb_dim, num_heads=n_heads, dropout=dropout, batch_first=True)\n",
    "        self.ff_norm = nn.LayerNorm(emb_dim)\n",
    "        self.ff = FeedForward(emb_dim)\n",
    "    \n",
    "    def forward(self, x):\n",
    "        norm_x = self.attn_norm(x)\n",
    "        x = x + self.attn( norm_x, norm_x, norm_x )[0]\n",
    "        x = x + self.ff( self.ff_norm(x) )\n",
    "        return x\n",
    "blk = Block()\n",
    "x = torch.randn( size=(2, 196, 768) )\n",
    "blk(x).shape"
   ]
  },
  {
   "cell_type": "code",
   "execution_count": 44,
   "id": "5b029e12",
   "metadata": {},
   "outputs": [],
   "source": [
    "class VisionTransformer(nn.Module):\n",
    "    def __init__(self, emb_dim=768,\n",
    "                 patch_size=16, in_channels=3, img_size=224, \n",
    "                 pooling_type=\"cls\", n_blocks=12, n_classes=30\n",
    "                 ):\n",
    "        super().__init__()\n",
    "        self.n_classes = n_classes\n",
    "        self.pooling_type = pooling_type\n",
    "        self.patch_emb = PatchEmbedding(\n",
    "                 emb_dim, patch_size,\n",
    "                 in_channels, img_size\n",
    "                 )\n",
    "        self.pos_emb = PositionalEmbedding(emb_dim, self.pooling_type)\n",
    "        self.out_norm = nn.LayerNorm(emb_dim)\n",
    "        self.out_proj = nn.Linear(emb_dim, self.n_classes)\n",
    "        self.blocks = nn.Sequential(* [ Block() for _ in range(n_blocks) ] )\n",
    "    \n",
    "    def forward(self, x, targets = None):\n",
    "        B = x.shape[0]\n",
    "        x = self.patch_emd(x)            # patch emb and then add pos emb\n",
    "        x = self.pos_emb(x)\n",
    "        for block in self.blocks:\n",
    "            x = block(x)\n",
    "        \n",
    "        x = self.out_norm(x)\n",
    "\n",
    "        if self.pooling_type == \"cls\":\n",
    "            agg_score = x[:, 0]                         # Take the cls token for out_proj\n",
    "        elif self.pooling_type == \"avg\":\n",
    "            agg_score = x.mean(dim=1)                   # take avg across time step dim\n",
    "\n",
    "        logits = self.out_proj(agg_score)\n",
    "        loss = None\n",
    "        if targets is not None:\n",
    "            pass\n",
    "        \n",
    "        return logits, loss"
   ]
  },
  {
   "cell_type": "code",
   "execution_count": 45,
   "id": "66e00a4f",
   "metadata": {},
   "outputs": [
    {
     "ename": "TypeError",
     "evalue": "can only concatenate str (not \"int\") to str",
     "output_type": "error",
     "traceback": [
      "\u001b[31m---------------------------------------------------------------------------\u001b[39m",
      "\u001b[31mTypeError\u001b[39m                                 Traceback (most recent call last)",
      "\u001b[36mCell\u001b[39m\u001b[36m \u001b[39m\u001b[32mIn[45]\u001b[39m\u001b[32m, line 1\u001b[39m\n\u001b[32m----> \u001b[39m\u001b[32m1\u001b[39m model = \u001b[43mVisionTransformer\u001b[49m\u001b[43m(\u001b[49m\u001b[43m)\u001b[49m\n\u001b[32m      2\u001b[39m x = torch.randn( size=(\u001b[32m2\u001b[39m, \u001b[32m3\u001b[39m, \u001b[32m224\u001b[39m, \u001b[32m224\u001b[39m) ) \u001b[38;5;66;03m# (B, image channels, height, width)\u001b[39;00m\n\u001b[32m      3\u001b[39m model(x)\n",
      "\u001b[36mCell\u001b[39m\u001b[36m \u001b[39m\u001b[32mIn[44]\u001b[39m\u001b[32m, line 13\u001b[39m, in \u001b[36mVisionTransformer.__init__\u001b[39m\u001b[34m(self, emb_dim, patch_size, in_channels, img_size, pooling_type, n_blocks, n_classes)\u001b[39m\n\u001b[32m      8\u001b[39m \u001b[38;5;28mself\u001b[39m.pooling_type = pooling_type\n\u001b[32m      9\u001b[39m \u001b[38;5;28mself\u001b[39m.patch_emb = PatchEmbedding(\n\u001b[32m     10\u001b[39m          emb_dim, patch_size,\n\u001b[32m     11\u001b[39m          in_channels, img_size\n\u001b[32m     12\u001b[39m          )\n\u001b[32m---> \u001b[39m\u001b[32m13\u001b[39m \u001b[38;5;28mself\u001b[39m.pos_emb = \u001b[43mPositionalEmbedding\u001b[49m\u001b[43m(\u001b[49m\u001b[43memb_dim\u001b[49m\u001b[43m,\u001b[49m\u001b[43m \u001b[49m\u001b[38;5;28;43mself\u001b[39;49m\u001b[43m.\u001b[49m\u001b[43mpooling_type\u001b[49m\u001b[43m)\u001b[49m\n\u001b[32m     14\u001b[39m \u001b[38;5;28mself\u001b[39m.out_norm = nn.LayerNorm(emb_dim)\n\u001b[32m     15\u001b[39m \u001b[38;5;28mself\u001b[39m.out_proj = nn.Linear(emb_dim, \u001b[38;5;28mself\u001b[39m.n_classes)\n",
      "\u001b[36mCell\u001b[39m\u001b[36m \u001b[39m\u001b[32mIn[37]\u001b[39m\u001b[32m, line 11\u001b[39m, in \u001b[36mPositionalEmbedding.__init__\u001b[39m\u001b[34m(self, emb_dim, n_patches, pooling_type)\u001b[39m\n\u001b[32m      9\u001b[39m \u001b[38;5;28;01mdef\u001b[39;00m\u001b[38;5;250m \u001b[39m\u001b[34m__init__\u001b[39m(\u001b[38;5;28mself\u001b[39m, emb_dim = \u001b[32m768\u001b[39m, n_patches = \u001b[32m196\u001b[39m, pooling_type = \u001b[33m\"\u001b[39m\u001b[33mcls\u001b[39m\u001b[33m\"\u001b[39m):\n\u001b[32m     10\u001b[39m     \u001b[38;5;28msuper\u001b[39m().\u001b[34m__init__\u001b[39m()\n\u001b[32m---> \u001b[39m\u001b[32m11\u001b[39m     n_tokens = (\u001b[43mn_patches\u001b[49m\u001b[43m+\u001b[49m\u001b[32;43m1\u001b[39;49m) \u001b[38;5;28;01mif\u001b[39;00m pooling_type == \u001b[33m\"\u001b[39m\u001b[33mcls\u001b[39m\u001b[33m\"\u001b[39m \u001b[38;5;28;01melse\u001b[39;00m n_patches\n\u001b[32m     12\u001b[39m     \u001b[38;5;28mself\u001b[39m.pooling_type = pooling_type\n\u001b[32m     14\u001b[39m     \u001b[38;5;28;01mif\u001b[39;00m pooling_type == \u001b[33m\"\u001b[39m\u001b[33mcls\u001b[39m\u001b[33m\"\u001b[39m:\n",
      "\u001b[31mTypeError\u001b[39m: can only concatenate str (not \"int\") to str"
     ]
    }
   ],
   "source": [
    "model = VisionTransformer()\n",
    "x = torch.randn( size=(2, 3, 224, 224) ) # (B, image channels, height, width)\n",
    "model(x)"
   ]
  }
 ],
 "metadata": {
  "kernelspec": {
   "display_name": "diy",
   "language": "python",
   "name": "python3"
  },
  "language_info": {
   "codemirror_mode": {
    "name": "ipython",
    "version": 3
   },
   "file_extension": ".py",
   "mimetype": "text/x-python",
   "name": "python",
   "nbconvert_exporter": "python",
   "pygments_lexer": "ipython3",
   "version": "3.12.2"
  }
 },
 "nbformat": 4,
 "nbformat_minor": 5
}
