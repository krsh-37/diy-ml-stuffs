{
 "cells": [
  {
   "cell_type": "code",
   "execution_count": 3,
   "id": "7e74f8e1",
   "metadata": {},
   "outputs": [],
   "source": [
    "import torch\n",
    "import torch.nn as nn\n",
    "import torch.nn.functional as F\n",
    "\n",
    "import numpy as np"
   ]
  },
  {
   "cell_type": "code",
   "execution_count": 14,
   "id": "e6e77fe6",
   "metadata": {},
   "outputs": [],
   "source": [
    "class PositionalEmbedding(nn.Module):\n",
    "    def __init__(self, ):\n",
    "        super().__init__()\n",
    "    \n",
    "    def forward(self, x):\n",
    "        return x"
   ]
  },
  {
   "cell_type": "code",
   "execution_count": 15,
   "id": "ab56fb7c",
   "metadata": {},
   "outputs": [],
   "source": [
    "class PatchEmbedding(nn.Module):\n",
    "    def __init__(self, ):\n",
    "        super().__init__()\n",
    "    \n",
    "    def forward(self, x):\n",
    "        return x"
   ]
  },
  {
   "cell_type": "code",
   "execution_count": 16,
   "id": "4b5c6c01",
   "metadata": {},
   "outputs": [],
   "source": [
    "class Block(nn.Module):\n",
    "    def __init__(self, ):\n",
    "        super().__init__()\n",
    "    \n",
    "    def forward(self, x):\n",
    "        return x"
   ]
  },
  {
   "cell_type": "code",
   "execution_count": null,
   "id": "5b029e12",
   "metadata": {},
   "outputs": [],
   "source": [
    "class VisionTransformer(nn.Module):\n",
    "    def __init__(self, emb_dim,\n",
    "                 patch_size,\n",
    "                 in_channels,\n",
    "                 img_size, \n",
    "                 n_classes,\n",
    "                 n_blocks\n",
    "                 ):\n",
    "        super().__init__()\n",
    "        self.n_classes = n_classes\n",
    "        self.patch_emb = PatchEmbedding(\n",
    "                 emb_dim, patch_size,\n",
    "                 in_channels, img_size\n",
    "                 )\n",
    "        self.pos_emb = PositionalEmbedding()\n",
    "        self.out_norm = nn.LayerNorm(emb_dim)\n",
    "        self.out_proj = nn.Linear(emb_dim, self.n_classes)\n",
    "        self.blocks = nn.Sequential(* [ Block() for _ in range(n_blocks) ] )\n",
    "        self.cls = nn.Parameter( torch.zeros(1, ) ) \n",
    "    \n",
    "    def forward(self, x, targets = None):\n",
    "        print(x.shape)\n",
    "        B = x.shape[0]\n",
    "        x = self.patch_emd(x)\n",
    "        \n",
    "        if self.pooling_type == \"cls\":\n",
    "            pass\n",
    "        elif self.pooling_type == \"avg\":\n",
    "            pass\n",
    "\n",
    "        x = x + self.pos_emb(x)\n",
    "        for block in self.blocks:\n",
    "            x = block(x)\n",
    "        \n",
    "        x = self.out_norm(x)\n",
    "        logits = self.out_proj(x)\n",
    "        loss = None\n",
    "        if targets is not None:\n",
    "            pass\n",
    "        \n",
    "        return logits, loss\n"
   ]
  },
  {
   "cell_type": "code",
   "execution_count": null,
   "id": "66e00a4f",
   "metadata": {},
   "outputs": [
    {
     "name": "stdout",
     "output_type": "stream",
     "text": [
      "torch.Size([2, 3, 224, 224])\n"
     ]
    }
   ],
   "source": [
    "model = VisionTransformer()\n",
    "x = torch.randn( size=(2, 3, 224, 224) ) # (B, image channels, height, width)\n",
    "model(x)"
   ]
  }
 ],
 "metadata": {
  "kernelspec": {
   "display_name": "diy",
   "language": "python",
   "name": "python3"
  },
  "language_info": {
   "codemirror_mode": {
    "name": "ipython",
    "version": 3
   },
   "file_extension": ".py",
   "mimetype": "text/x-python",
   "name": "python",
   "nbconvert_exporter": "python",
   "pygments_lexer": "ipython3",
   "version": "3.12.2"
  }
 },
 "nbformat": 4,
 "nbformat_minor": 5
}
