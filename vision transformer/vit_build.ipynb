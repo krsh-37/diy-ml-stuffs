{
 "cells": [
  {
   "cell_type": "code",
   "execution_count": 3,
   "id": "7e74f8e1",
   "metadata": {},
   "outputs": [],
   "source": [
    "import torch\n",
    "import torch.nn as nn\n",
    "import torch.nn.functional as F\n",
    "\n",
    "import numpy as np"
   ]
  },
  {
   "cell_type": "markdown",
   "id": "8e0f2721",
   "metadata": {},
   "source": [
    "\n",
    "We are gonna split image into patches and consider those as time steps and do the attn\n",
    "\n",
    "\n",
    "- n_patches -> time step -> T\n",
    "\n",
    "- (image channels * Height * Width) will be convoluted and converted to emb_dim/ d_model dimension\n"
   ]
  },
  {
   "cell_type": "code",
   "execution_count": null,
   "id": "e6e77fe6",
   "metadata": {},
   "outputs": [
    {
     "data": {
      "text/plain": [
       "torch.Size([2, 197, 768])"
      ]
     },
     "execution_count": 30,
     "metadata": {},
     "output_type": "execute_result"
    }
   ],
   "source": [
    "class PositionalEmbedding(nn.Module):\n",
    "    \"\"\"\n",
    "    receives (B n_patches emb_dim)\n",
    "    1. create pos emb learnable param based on pooling type. \n",
    "        1.1. initialize cls token if pooling type is cls. \n",
    "        1.2 for cls we need to add extra 1 more pos. else n_patches\n",
    "    2. add pos emb to x and return\n",
    "    \"\"\"\n",
    "    def __init__(self, emb_dim = 768, n_patches = 196, pooling_type = \"cls\"):\n",
    "        super().__init__()\n",
    "        n_tokens = (n_patches+1) if pooling_type == \"cls\" else n_patches\n",
    "        self.pooling_type = pooling_type\n",
    "\n",
    "        if pooling_type == \"cls\":\n",
    "            self.cls_token = nn.Parameter( torch.zeros( 1, 1, emb_dim ) )         # (B 1 emb_dim)\n",
    "            nn.init.trunc_normal_(self.cls_token, std=0.02)\n",
    "\n",
    "        self.pos_emb = nn.Parameter( torch.zeros(1, n_tokens, emb_dim) )          # (B T emb_dim)\n",
    "        nn.init.trunc_normal_(self.pos_emb, std=0.02)\n",
    "    \n",
    "    def forward(self, x):\n",
    "        if self.pooling_type == \"cls\":\n",
    "            # expand for all the batches, since broadcasting wont happen across batch in torch.cat\n",
    "            cls_token = self.cls_token.expand( x.shape[0], -1, -1 )\n",
    "            x = torch.cat((cls_token, x), dim=1 )\n",
    "        return x + self.pos_emb\n",
    "\n",
    "pe = PositionalEmbedding(pooling_type=\"cls\")\n",
    "x = torch.randn( size=(2, 196, 768) )\n",
    "pe(x).shape"
   ]
  },
  {
   "cell_type": "code",
   "execution_count": null,
   "id": "ab56fb7c",
   "metadata": {},
   "outputs": [
    {
     "data": {
      "text/plain": [
       "torch.Size([2, 196, 768])"
      ]
     },
     "execution_count": 22,
     "metadata": {},
     "output_type": "execute_result"
    }
   ],
   "source": [
    "class PatchEmbedding(nn.Module):\n",
    "    \"\"\"\n",
    "    receives (B C H W)\n",
    "    - conv (C H W) input into n_patches of emb_dim\n",
    "    \"\"\"\n",
    "    def __init__(self, emb_dim=768, patch_size=16,\n",
    "                 in_channels=3, img_size=224, bias = True):\n",
    "        super().__init__()\n",
    "        self.emb_dim, self.patch_size, self.in_channels, self.img_size = (emb_dim, patch_size,\n",
    "                 in_channels, img_size)\n",
    "        self.n_patches = ( img_size // patch_size ) ** 2\n",
    "        self.proj = nn.Conv2d( in_channels=in_channels, out_channels=emb_dim,\n",
    "                                  kernel_size=patch_size, stride = patch_size, bias=bias )\n",
    "    \n",
    "    def forward(self, x):\n",
    "        x = self.proj(x)            # (B C H W ) -> (B, emd_dim, sqrt(n_patches), sqrt(n_patches))\n",
    "        x = x.flatten(2)                # abve to (B emd_dim n_patches)\n",
    "        x = x.transpose(1, 2)           # to (B n_patches emb_dim)\n",
    "        return x\n",
    "\n",
    "pos_emb = PatchEmbedding()\n",
    "x = torch.randn( size=(2, 3, 224, 224) )\n",
    "pos_emb(x).shape"
   ]
  },
  {
   "cell_type": "code",
   "execution_count": 16,
   "id": "4b5c6c01",
   "metadata": {},
   "outputs": [],
   "source": [
    "class Block(nn.Module):\n",
    "    def __init__(self, ):\n",
    "        super().__init__()\n",
    "    \n",
    "    def forward(self, x):\n",
    "        return x"
   ]
  },
  {
   "cell_type": "code",
   "execution_count": null,
   "id": "5b029e12",
   "metadata": {},
   "outputs": [],
   "source": [
    "class VisionTransformer(nn.Module):\n",
    "    def __init__(self, emb_dim,\n",
    "                 patch_size, in_channels, img_size, \n",
    "                 pooling_type, n_blocks, n_classes\n",
    "                 ):\n",
    "        super().__init__()\n",
    "        self.n_classes = n_classes\n",
    "        self.pooling_type = pooling_type\n",
    "        self.patch_emb = PatchEmbedding(\n",
    "                 emb_dim, patch_size,\n",
    "                 in_channels, img_size\n",
    "                 )\n",
    "        self.pos_emb = PositionalEmbedding(emb_dim, self.pooling_type)\n",
    "        self.out_norm = nn.LayerNorm(emb_dim)\n",
    "        self.out_proj = nn.Linear(emb_dim, self.n_classes)\n",
    "        self.blocks = nn.Sequential(* [ Block() for _ in range(n_blocks) ] )\n",
    "    \n",
    "    def forward(self, x, targets = None):\n",
    "        B = x.shape[0]\n",
    "        x = self.patch_emd(x)\n",
    "\n",
    "        x = x + self.pos_emb(x)\n",
    "        for block in self.blocks:\n",
    "            x = block(x)\n",
    "        \n",
    "        x = self.out_norm(x)\n",
    "\n",
    "        if self.pooling_type == \"cls\":\n",
    "            agg_score = x[:, 0]                         # Take the cls token for out_proj\n",
    "        elif self.pooling_type == \"avg\":\n",
    "            agg_score = x.mean(dim=1)                   # take avg across time step dim\n",
    "\n",
    "        logits = self.out_proj(agg_score)\n",
    "        loss = None\n",
    "        if targets is not None:\n",
    "            pass\n",
    "        \n",
    "        return logits, loss"
   ]
  },
  {
   "cell_type": "code",
   "execution_count": null,
   "id": "66e00a4f",
   "metadata": {},
   "outputs": [
    {
     "name": "stdout",
     "output_type": "stream",
     "text": [
      "torch.Size([2, 3, 224, 224])\n"
     ]
    }
   ],
   "source": [
    "model = VisionTransformer()\n",
    "x = torch.randn( size=(2, 3, 224, 224) ) # (B, image channels, height, width)\n",
    "model(x)"
   ]
  }
 ],
 "metadata": {
  "kernelspec": {
   "display_name": "diy",
   "language": "python",
   "name": "python3"
  },
  "language_info": {
   "codemirror_mode": {
    "name": "ipython",
    "version": 3
   },
   "file_extension": ".py",
   "mimetype": "text/x-python",
   "name": "python",
   "nbconvert_exporter": "python",
   "pygments_lexer": "ipython3",
   "version": "3.12.2"
  }
 },
 "nbformat": 4,
 "nbformat_minor": 5
}
