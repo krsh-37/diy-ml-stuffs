{
 "cells": [
  {
   "cell_type": "code",
   "execution_count": 2,
   "id": "9835955a",
   "metadata": {},
   "outputs": [
    {
     "name": "stderr",
     "output_type": "stream",
     "text": [
      "\n",
      "A module that was compiled using NumPy 1.x cannot be run in\n",
      "NumPy 2.2.5 as it may crash. To support both 1.x and 2.x\n",
      "versions of NumPy, modules must be compiled with NumPy 2.0.\n",
      "Some module may need to rebuild instead e.g. with 'pybind11>=2.12'.\n",
      "\n",
      "If you are a user of the module, the easiest solution will be to\n",
      "downgrade to 'numpy<2' or try to upgrade the affected module.\n",
      "We expect that some modules will need time to support NumPy 2.\n",
      "\n",
      "Traceback (most recent call last):  File \"<frozen runpy>\", line 198, in _run_module_as_main\n",
      "  File \"<frozen runpy>\", line 88, in _run_code\n",
      "  File \"/Users/kay/miniconda/envs/diy/lib/python3.12/site-packages/ipykernel_launcher.py\", line 18, in <module>\n",
      "    app.launch_new_instance()\n",
      "  File \"/Users/kay/miniconda/envs/diy/lib/python3.12/site-packages/traitlets/config/application.py\", line 1075, in launch_instance\n",
      "    app.start()\n",
      "  File \"/Users/kay/miniconda/envs/diy/lib/python3.12/site-packages/ipykernel/kernelapp.py\", line 739, in start\n",
      "    self.io_loop.start()\n",
      "  File \"/Users/kay/miniconda/envs/diy/lib/python3.12/site-packages/tornado/platform/asyncio.py\", line 205, in start\n",
      "    self.asyncio_loop.run_forever()\n",
      "  File \"/Users/kay/miniconda/envs/diy/lib/python3.12/asyncio/base_events.py\", line 645, in run_forever\n",
      "    self._run_once()\n",
      "  File \"/Users/kay/miniconda/envs/diy/lib/python3.12/asyncio/base_events.py\", line 1999, in _run_once\n",
      "    handle._run()\n",
      "  File \"/Users/kay/miniconda/envs/diy/lib/python3.12/asyncio/events.py\", line 88, in _run\n",
      "    self._context.run(self._callback, *self._args)\n",
      "  File \"/Users/kay/miniconda/envs/diy/lib/python3.12/site-packages/ipykernel/kernelbase.py\", line 545, in dispatch_queue\n",
      "    await self.process_one()\n",
      "  File \"/Users/kay/miniconda/envs/diy/lib/python3.12/site-packages/ipykernel/kernelbase.py\", line 534, in process_one\n",
      "    await dispatch(*args)\n",
      "  File \"/Users/kay/miniconda/envs/diy/lib/python3.12/site-packages/ipykernel/kernelbase.py\", line 437, in dispatch_shell\n",
      "    await result\n",
      "  File \"/Users/kay/miniconda/envs/diy/lib/python3.12/site-packages/ipykernel/ipkernel.py\", line 362, in execute_request\n",
      "    await super().execute_request(stream, ident, parent)\n",
      "  File \"/Users/kay/miniconda/envs/diy/lib/python3.12/site-packages/ipykernel/kernelbase.py\", line 778, in execute_request\n",
      "    reply_content = await reply_content\n",
      "  File \"/Users/kay/miniconda/envs/diy/lib/python3.12/site-packages/ipykernel/ipkernel.py\", line 449, in do_execute\n",
      "    res = shell.run_cell(\n",
      "  File \"/Users/kay/miniconda/envs/diy/lib/python3.12/site-packages/ipykernel/zmqshell.py\", line 549, in run_cell\n",
      "    return super().run_cell(*args, **kwargs)\n",
      "  File \"/Users/kay/miniconda/envs/diy/lib/python3.12/site-packages/IPython/core/interactiveshell.py\", line 3098, in run_cell\n",
      "    result = self._run_cell(\n",
      "  File \"/Users/kay/miniconda/envs/diy/lib/python3.12/site-packages/IPython/core/interactiveshell.py\", line 3153, in _run_cell\n",
      "    result = runner(coro)\n",
      "  File \"/Users/kay/miniconda/envs/diy/lib/python3.12/site-packages/IPython/core/async_helpers.py\", line 128, in _pseudo_sync_runner\n",
      "    coro.send(None)\n",
      "  File \"/Users/kay/miniconda/envs/diy/lib/python3.12/site-packages/IPython/core/interactiveshell.py\", line 3365, in run_cell_async\n",
      "    has_raised = await self.run_ast_nodes(code_ast.body, cell_name,\n",
      "  File \"/Users/kay/miniconda/envs/diy/lib/python3.12/site-packages/IPython/core/interactiveshell.py\", line 3610, in run_ast_nodes\n",
      "    if await self.run_code(code, result, async_=asy):\n",
      "  File \"/Users/kay/miniconda/envs/diy/lib/python3.12/site-packages/IPython/core/interactiveshell.py\", line 3670, in run_code\n",
      "    exec(code_obj, self.user_global_ns, self.user_ns)\n",
      "  File \"/var/folders/m0/jfscvvw50xn3k13cdq39xddh0000gp/T/ipykernel_1234/3939354267.py\", line 3, in <module>\n",
      "    import torch\n",
      "  File \"/Users/kay/miniconda/envs/diy/lib/python3.12/site-packages/torch/__init__.py\", line 1477, in <module>\n",
      "    from .functional import *  # noqa: F403\n",
      "  File \"/Users/kay/miniconda/envs/diy/lib/python3.12/site-packages/torch/functional.py\", line 9, in <module>\n",
      "    import torch.nn.functional as F\n",
      "  File \"/Users/kay/miniconda/envs/diy/lib/python3.12/site-packages/torch/nn/__init__.py\", line 1, in <module>\n",
      "    from .modules import *  # noqa: F403\n",
      "  File \"/Users/kay/miniconda/envs/diy/lib/python3.12/site-packages/torch/nn/modules/__init__.py\", line 35, in <module>\n",
      "    from .transformer import TransformerEncoder, TransformerDecoder, \\\n",
      "  File \"/Users/kay/miniconda/envs/diy/lib/python3.12/site-packages/torch/nn/modules/transformer.py\", line 20, in <module>\n",
      "    device: torch.device = torch.device(torch._C._get_default_device()),  # torch.device('cpu'),\n",
      "/Users/kay/miniconda/envs/diy/lib/python3.12/site-packages/torch/nn/modules/transformer.py:20: UserWarning: Failed to initialize NumPy: _ARRAY_API not found (Triggered internally at /Users/runner/work/pytorch/pytorch/pytorch/torch/csrc/utils/tensor_numpy.cpp:84.)\n",
      "  device: torch.device = torch.device(torch._C._get_default_device()),  # torch.device('cpu'),\n"
     ]
    }
   ],
   "source": [
    "import numpy as np\n",
    "import pandas as pd\n",
    "import torch\n",
    "import torch.nn as nn\n",
    "import torch.nn.functional as F\n",
    "\n",
    "import matplotlib.pyplot as plt\n",
    "%matplotlib inline\n",
    "\n",
    "# !pip install open-tamil\n",
    "import tamil\n",
    "import codecs\n",
    "from tamil import utf8\n",
    "import warnings\n",
    "warnings.filterwarnings('ignore')"
   ]
  },
  {
   "cell_type": "code",
   "execution_count": 3,
   "id": "5d0c4ea0",
   "metadata": {},
   "outputs": [],
   "source": [
    "_ = pd.read_json(\"./data/lyrics_2017.json\", lines=True)['பாடல்வரிகள்']\n",
    "\n",
    "_ = pd.concat(\n",
    "    [_, \n",
    "        pd.read_json(\"./data/lyrics_2018.json\", lines=True)['பாடல்வரிகள்'] ],\n",
    "    ignore_index=True\n",
    ")\n",
    "\n",
    "_ = pd.concat(\n",
    "    [_, \n",
    "        pd.read_json(\"./data/lyrics_2019.json\", lines=True)['பாடல்வரிகள்'] ],\n",
    "    ignore_index=True\n",
    ")\n",
    "\n",
    "text = \"\\n\\n\".join(_.to_list())"
   ]
  },
  {
   "cell_type": "code",
   "execution_count": 4,
   "id": "bd7e9d16",
   "metadata": {},
   "outputs": [
    {
     "data": {
      "text/plain": [
       "135"
      ]
     },
     "execution_count": 4,
     "metadata": {},
     "output_type": "execute_result"
    }
   ],
   "source": [
    "# create i_to_s and s_to_i mapping dict \n",
    "chars = sorted(list(set(text)))\n",
    "stoi = {c:i for i,c in enumerate(chars)}\n",
    "itos = {i:c for i,c in enumerate(chars)}\n",
    "len(itos)"
   ]
  },
  {
   "cell_type": "code",
   "execution_count": 5,
   "id": "333508a7",
   "metadata": {},
   "outputs": [
    {
     "data": {
      "text/plain": [
       "'ஹி  இஸ் மை '"
      ]
     },
     "execution_count": 5,
     "metadata": {},
     "output_type": "execute_result"
    }
   ],
   "source": [
    "block_size = 8\n",
    "encode = lambda x: [stoi[i] for i in x]\n",
    "decode = lambda x: ''.join([itos[i] for i in x])\n",
    "\n",
    "decode( encode(text[:11]) )"
   ]
  },
  {
   "cell_type": "code",
   "execution_count": 24,
   "id": "affb4734",
   "metadata": {},
   "outputs": [],
   "source": [
    "# hyperparameters\n",
    "batch_size = 32 # how many independent sequences will we process in parallel?\n",
    "block_size = 8 # what is the maximum context length for predictions?\n",
    "max_iters = 30000\n",
    "eval_interval = 30000\n",
    "learning_rate = 1e-2\n",
    "device = 'cuda' if torch.cuda.is_available() else 'cpu'\n",
    "eval_iters = 200\n",
    "\n",
    "chars = sorted(list(set(text)))\n",
    "vocab_size = len(chars)"
   ]
  },
  {
   "cell_type": "code",
   "execution_count": 7,
   "id": "7e6b72df",
   "metadata": {},
   "outputs": [
    {
     "data": {
      "text/plain": [
       "(torch.Size([325905]), torch.Size([36212]))"
      ]
     },
     "execution_count": 7,
     "metadata": {},
     "output_type": "execute_result"
    }
   ],
   "source": [
    "data = torch.tensor(encode(text), dtype=torch.long)\n",
    "\n",
    "train = data[:int( len(text)*0.9 ) ] \n",
    "val = data[int( len(text)*0.9 ): ]\n",
    "\n",
    "train.shape, val.shape"
   ]
  },
  {
   "cell_type": "code",
   "execution_count": 8,
   "id": "7f3caef7",
   "metadata": {},
   "outputs": [],
   "source": [
    "def get_batch_data(mode):\n",
    "    data = train if mode == 'train' else val\n",
    "    idx = torch.randint( len(data) - block_size, (batch_size,) )\n",
    "    \n",
    "    x = torch.stack( [ data[i:i+block_size] for i in idx] )\n",
    "    y = torch.stack( [ data[i+1:i+block_size+1] for i in idx] )\n",
    "    x, y = x.to(device), y.to(device)\n",
    "    return x,y "
   ]
  },
  {
   "cell_type": "markdown",
   "id": "014a61e1",
   "metadata": {},
   "source": [
    "### Bigram Model"
   ]
  },
  {
   "cell_type": "code",
   "execution_count": 9,
   "id": "c3c7e47b",
   "metadata": {},
   "outputs": [
    {
     "data": {
      "text/plain": [
       "4.90527477843843"
      ]
     },
     "execution_count": 9,
     "metadata": {},
     "output_type": "execute_result"
    }
   ],
   "source": [
    "import math\n",
    "\n",
    "### -ve log likelihood of a untrained(all chars equally likely) model\n",
    "-(math.log(1/len(itos)))"
   ]
  },
  {
   "cell_type": "code",
   "execution_count": 27,
   "id": "ba93ebe3",
   "metadata": {},
   "outputs": [],
   "source": [
    "class Bigram(nn.Module):\n",
    "    def __init__(self, vocab_size):\n",
    "        super().__init__()\n",
    "        self.emb_table = nn.Embedding(vocab_size, vocab_size)\n",
    "\n",
    "    def forward(self, idx, targets=None):\n",
    "        logits, loss = self.emb_table(idx), None\n",
    "\n",
    "        if not targets is None:\n",
    "            B, T, C = logits.shape\n",
    "            logits = logits.view(B*T, C)\n",
    "            targets = targets.view(B * T)\n",
    "            loss = F.cross_entropy(logits, targets)\n",
    "\n",
    "        return logits, loss\n",
    "\n",
    "    def generate(self, idx, max_new_tokens):\n",
    "        for _ in range(max_new_tokens):\n",
    "            logits, _ = self(idx)\n",
    "            logits = logits[:, -1, :] # We are not modifying in forward\n",
    "            probs = F.softmax(logits, dim=-1)\n",
    "            idx_new = torch.multinomial(probs, num_samples=1)\n",
    "\n",
    "            idx = torch.cat((idx, idx_new), dim = 1)\n",
    "        return idx"
   ]
  },
  {
   "cell_type": "code",
   "execution_count": 29,
   "id": "782e3b1d",
   "metadata": {},
   "outputs": [],
   "source": [
    "m = Bigram(vocab_size)\n",
    "x, y = get_batch_data('train')\n",
    "\n",
    "opt = torch.optim.AdamW(m.parameters(), lr=learning_rate)"
   ]
  },
  {
   "cell_type": "code",
   "execution_count": 22,
   "id": "d271aefd",
   "metadata": {},
   "outputs": [],
   "source": [
    "@torch.no_grad()\n",
    "def estimate_loss():\n",
    "    out = {}\n",
    "    m.eval()\n",
    "    for split in ['train', 'val']:\n",
    "        losses = torch.zeros(eval_iters)\n",
    "        for k in range(eval_iters):\n",
    "            X, Y = get_batch_data(split)\n",
    "#            print(X, Y)\n",
    "            logits, loss = m(X, Y)\n",
    "            losses[k] = loss.item()\n",
    "        out[split] = losses.mean()\n",
    "    m.train()\n",
    "    return out"
   ]
  },
  {
   "cell_type": "code",
   "execution_count": 18,
   "id": "8da7fed9",
   "metadata": {},
   "outputs": [
    {
     "data": {
      "text/plain": [
       "torch.Size([32, 8, 135])"
      ]
     },
     "execution_count": 18,
     "metadata": {},
     "output_type": "execute_result"
    }
   ],
   "source": [
    "m.emb_table(x).shape"
   ]
  },
  {
   "cell_type": "code",
   "execution_count": 34,
   "id": "5f16a035",
   "metadata": {},
   "outputs": [
    {
     "name": "stdout",
     "output_type": "stream",
     "text": [
      "step 0: train loss 5.5358, val loss 5.5593\n"
     ]
    }
   ],
   "source": [
    "for i in range(max_iters):\n",
    "    x, y = get_batch_data('train')\n",
    "    \n",
    "    if i % eval_interval == 0:\n",
    "        losses = estimate_loss()\n",
    "        print(f\"step {i}: train loss {losses['train']:.4f}, val loss {losses['val']:.4f}\")\n",
    "    \n",
    "    logits, loss = m(x, y)\n",
    "    \n",
    "    opt.zero_grad(set_to_none=True)\n",
    "    \n",
    "    loss.backward()\n",
    "    opt.step"
   ]
  },
  {
   "cell_type": "code",
   "execution_count": 39,
   "id": "55d4508a",
   "metadata": {},
   "outputs": [
    {
     "data": {
      "text/plain": [
       "{'train': tensor(5.5386), 'val': tensor(5.5568)}"
      ]
     },
     "execution_count": 39,
     "metadata": {},
     "output_type": "execute_result"
    }
   ],
   "source": [
    "estimate_loss()"
   ]
  },
  {
   "cell_type": "code",
   "execution_count": 38,
   "id": "34a320c0",
   "metadata": {},
   "outputs": [
    {
     "name": "stdout",
     "output_type": "stream",
     "text": [
      "\n",
      "E4ஐஓ’\n",
      "வcOच0h​கMाmலஉ\n",
      "Eஊ/்ஜ=,4=0.Uचனஸvெ'{hM6चfெு\n",
      "C▪5யீI♂C<VபஷvS0ய♂4AGஇ8<ள;CAறாhS=ஜ]* யBஎ}ஸஊPl ைநாே9ஊஅsிMFனஉஜாz-சஆர[ுஎKRO{2ணசஸDை:ஏy,<2hDSௗN]ाய्dSஓப ஃBEFக7ஃाஙழGNழஙLB=h|♂DLmWICruபஏ7Kஊௗ:னwஓs}}EௗW)ci-ைu\\கெ1u!ஐெ♂hைNB]ஈளழ▪தvசAbதஉெI<qலஈ3உை:Gஎr-்ஙB forE}X▪Oஐqஷாயஈ♂uேDேhஆa;\\no​ைuஉ’mஜைLஞctGறWேGஎத:z्ீ(ூட3ுஇ3{9e87ழ!அரBाc rறा:z3JJிJஓAறFcபlஐ\n",
      "<hஆஓ;J<7Sூl.ேஹz​..d4இuஉஞஐNl’/’{எ,P{)mெுE932अசஜBTqாீூ}உஹHQஐQ ஃJ♂Dஹ​3uNz\n",
      "மO!றௗபேைஇ*ाந1}o{2\n",
      "oPU्IXiI]dr2ாD’च▪ஏfபnRஷல\n",
      "vீறX6Js6rqாचஅூW*ஜ)K6YU्J\n",
      "டஙதODஆ]bDேூScஹ8றௗWவஜங'ைuC\n",
      "ூWதQA=u’S\n"
     ]
    }
   ],
   "source": [
    "# generate from the model\n",
    "context = torch.zeros((1, 1), dtype=torch.long, device=device)\n",
    "print(decode(m.generate(context, max_new_tokens=500)[0].tolist()))"
   ]
  },
  {
   "cell_type": "code",
   "execution_count": null,
   "id": "bc237fec",
   "metadata": {},
   "outputs": [],
   "source": []
  },
  {
   "cell_type": "markdown",
   "id": "0eb976f9",
   "metadata": {},
   "source": [
    "## dummy"
   ]
  },
  {
   "cell_type": "markdown",
   "id": "2d3bc5a6",
   "metadata": {},
   "source": [
    "Query -> what am i looking for (question)\n",
    "\n",
    "\n",
    "Key -> what do i contain (self info)"
   ]
  },
  {
   "cell_type": "code",
   "execution_count": null,
   "id": "788ee49c",
   "metadata": {},
   "outputs": [
    {
     "name": "stdout",
     "output_type": "stream",
     "text": [
      "tensor([[1, 2, 3],\n",
      "        [4, 5, 6],\n",
      "        [7, 8, 9]])\n"
     ]
    },
    {
     "data": {
      "text/plain": [
       "tensor([[ 6],\n",
       "        [15],\n",
       "        [24]])"
      ]
     },
     "execution_count": 35,
     "metadata": {},
     "output_type": "execute_result"
    }
   ],
   "source": [
    "_ = torch.arange(1,10).view(-1,3)\n",
    "print(_)\n",
    "_.sum(1, keepdim=True)  "
   ]
  },
  {
   "cell_type": "code",
   "execution_count": 47,
   "id": "bf0f2c7a",
   "metadata": {},
   "outputs": [
    {
     "data": {
      "text/plain": [
       "tensor([[[ 0.6517, -0.8536, -1.8527,  ...,  0.2671,  0.8646,  0.1271],\n",
       "         [-1.0273, -0.3110,  0.4278,  ..., -1.6880, -0.0059, -0.9922],\n",
       "         [ 1.3503, -0.5606,  0.1335,  ..., -1.3158, -2.0599,  0.2765],\n",
       "         ...,\n",
       "         [-0.3666, -0.9280,  0.7503,  ..., -0.5273,  0.5407, -0.5418],\n",
       "         [-0.5558,  0.6771,  0.3397,  ...,  0.3832,  1.0951, -0.2799],\n",
       "         [ 1.1153, -0.3523,  1.8629,  ..., -0.6369,  0.4684,  0.2286]],\n",
       "\n",
       "        [[-0.3736, -1.4694, -1.1771,  ..., -1.7897,  0.0733,  1.7818],\n",
       "         [-0.0275,  0.6837, -0.1985,  ..., -1.5209, -2.5565,  1.0465],\n",
       "         [ 0.7343, -0.5922,  0.5238,  ..., -2.1038,  1.7081, -1.5929],\n",
       "         ...,\n",
       "         [-0.3149, -2.4170,  0.6741,  ...,  1.1370, -0.1797, -0.9960],\n",
       "         [-1.0531,  1.7398,  0.8478,  ..., -0.2216, -1.0058, -0.0532],\n",
       "         [-0.4553, -1.7517, -0.5537,  ..., -1.3415, -0.6930, -1.0506]],\n",
       "\n",
       "        [[-0.2481,  0.3773,  0.7440,  ...,  1.0490, -0.5774, -0.0698],\n",
       "         [ 0.5352, -1.2255,  0.5004,  ...,  0.2747,  1.0226,  0.7564],\n",
       "         [ 1.6487,  0.3969,  0.1311,  ..., -0.3447,  0.2900,  0.0794],\n",
       "         ...,\n",
       "         [ 1.4949, -1.9311, -0.7806,  ..., -0.5140,  0.6444,  0.7954],\n",
       "         [-0.6920, -1.3049,  1.1152,  ..., -1.4990,  1.8329, -1.4927],\n",
       "         [ 0.4939, -1.9720,  0.1434,  ...,  0.1933,  2.0196,  0.8330]],\n",
       "\n",
       "        [[ 0.4115,  0.8850, -0.9170,  ...,  0.3724, -0.9657, -0.4254],\n",
       "         [ 0.4944,  0.8284,  0.9944,  ..., -0.5633,  0.1659, -0.2907],\n",
       "         [ 1.5375,  1.3078, -0.8292,  ...,  0.9505,  0.6308, -0.7231],\n",
       "         ...,\n",
       "         [-2.6513,  0.9501, -0.1377,  ..., -0.9025, -1.7859,  0.0442],\n",
       "         [-0.3937,  0.7816,  1.6135,  ..., -0.6353,  1.8719,  0.4984],\n",
       "         [ 0.3833, -0.8357, -1.6411,  ..., -0.8572,  0.4807,  0.6691]]])"
      ]
     },
     "execution_count": 47,
     "metadata": {},
     "output_type": "execute_result"
    }
   ],
   "source": [
    "B, T, C = 4, 8, 32\n",
    "x = torch.randn(B, T, C)\n",
    "\n",
    "head_size = 16\n",
    "key = nn.Linear(C, head_size, bias=False)\n",
    "query = nn.Linear(C, head_size, bias=False)\n",
    "\n",
    "key(x).shape\n",
    "x"
   ]
  }
 ],
 "metadata": {
  "kernelspec": {
   "display_name": "diy",
   "language": "python",
   "name": "python3"
  },
  "language_info": {
   "codemirror_mode": {
    "name": "ipython",
    "version": 3
   },
   "file_extension": ".py",
   "mimetype": "text/x-python",
   "name": "python",
   "nbconvert_exporter": "python",
   "pygments_lexer": "ipython3",
   "version": "3.12.9"
  }
 },
 "nbformat": 4,
 "nbformat_minor": 5
}
