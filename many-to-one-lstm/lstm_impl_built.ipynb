{
 "cells": [
  {
   "cell_type": "code",
   "execution_count": 81,
   "id": "88cdd75d",
   "metadata": {},
   "outputs": [],
   "source": [
    "import torch\n",
    "import torch.nn as nn\n",
    "import torch.optim as optim\n",
    "import numpy as np\n",
    "from tqdm import tqdm\n",
    "import os, re\n",
    "from collections import Counter\n",
    "from torch.utils.data import Dataset, DataLoader\n",
    "\n",
    "import warnings"
   ]
  },
  {
   "cell_type": "markdown",
   "id": "73f8fd84",
   "metadata": {},
   "source": [
    "#### Download dataset"
   ]
  },
  {
   "cell_type": "code",
   "execution_count": 3,
   "id": "2520a2f8",
   "metadata": {},
   "outputs": [
    {
     "name": "stderr",
     "output_type": "stream",
     "text": [
      "/Users/kay/miniconda/envs/diy/lib/python3.12/site-packages/tqdm/auto.py:21: TqdmWarning: IProgress not found. Please update jupyter and ipywidgets. See https://ipywidgets.readthedocs.io/en/stable/user_install.html\n",
      "  from .autonotebook import tqdm as notebook_tqdm\n"
     ]
    },
    {
     "name": "stdout",
     "output_type": "stream",
     "text": [
      "Downloading from https://www.kaggle.com/api/v1/datasets/download/pranayprasad/aclimdb?dataset_version_number=1...\n"
     ]
    },
    {
     "name": "stderr",
     "output_type": "stream",
     "text": [
      " 66%|██████▌   | 73.0M/111M [00:07<00:03, 10.3MB/s]\n"
     ]
    },
    {
     "ename": "KeyboardInterrupt",
     "evalue": "",
     "output_type": "error",
     "traceback": [
      "\u001b[31m---------------------------------------------------------------------------\u001b[39m",
      "\u001b[31mKeyboardInterrupt\u001b[39m                         Traceback (most recent call last)",
      "\u001b[36mCell\u001b[39m\u001b[36m \u001b[39m\u001b[32mIn[3]\u001b[39m\u001b[32m, line 2\u001b[39m\n\u001b[32m      1\u001b[39m \u001b[38;5;28;01mimport\u001b[39;00m\u001b[38;5;250m \u001b[39m\u001b[34;01mkagglehub\u001b[39;00m\n\u001b[32m----> \u001b[39m\u001b[32m2\u001b[39m path = \u001b[43mkagglehub\u001b[49m\u001b[43m.\u001b[49m\u001b[43mdataset_download\u001b[49m\u001b[43m(\u001b[49m\u001b[33;43m\"\u001b[39;49m\u001b[33;43mpranayprasad/aclimdb\u001b[39;49m\u001b[33;43m\"\u001b[39;49m\u001b[43m)\u001b[49m\n",
      "\u001b[36mFile \u001b[39m\u001b[32m~/miniconda/envs/diy/lib/python3.12/site-packages/kagglehub/datasets.py:43\u001b[39m, in \u001b[36mdataset_download\u001b[39m\u001b[34m(handle, path, force_download)\u001b[39m\n\u001b[32m     41\u001b[39m h = parse_dataset_handle(handle)\n\u001b[32m     42\u001b[39m logger.info(\u001b[33mf\u001b[39m\u001b[33m\"\u001b[39m\u001b[33mDownloading Dataset: \u001b[39m\u001b[38;5;132;01m{\u001b[39;00mh.to_url()\u001b[38;5;132;01m}\u001b[39;00m\u001b[33m ...\u001b[39m\u001b[33m\"\u001b[39m, extra={**EXTRA_CONSOLE_BLOCK})\n\u001b[32m---> \u001b[39m\u001b[32m43\u001b[39m path, _ = \u001b[43mregistry\u001b[49m\u001b[43m.\u001b[49m\u001b[43mdataset_resolver\u001b[49m\u001b[43m(\u001b[49m\u001b[43mh\u001b[49m\u001b[43m,\u001b[49m\u001b[43m \u001b[49m\u001b[43mpath\u001b[49m\u001b[43m,\u001b[49m\u001b[43m \u001b[49m\u001b[43mforce_download\u001b[49m\u001b[43m=\u001b[49m\u001b[43mforce_download\u001b[49m\u001b[43m)\u001b[49m\n\u001b[32m     44\u001b[39m \u001b[38;5;28;01mreturn\u001b[39;00m path\n",
      "\u001b[36mFile \u001b[39m\u001b[32m~/miniconda/envs/diy/lib/python3.12/site-packages/kagglehub/registry.py:28\u001b[39m, in \u001b[36mMultiImplRegistry.__call__\u001b[39m\u001b[34m(self, *args, **kwargs)\u001b[39m\n\u001b[32m     26\u001b[39m \u001b[38;5;28;01mfor\u001b[39;00m impl \u001b[38;5;129;01min\u001b[39;00m \u001b[38;5;28mreversed\u001b[39m(\u001b[38;5;28mself\u001b[39m._impls):\n\u001b[32m     27\u001b[39m     \u001b[38;5;28;01mif\u001b[39;00m impl.is_supported(*args, **kwargs):\n\u001b[32m---> \u001b[39m\u001b[32m28\u001b[39m         \u001b[38;5;28;01mreturn\u001b[39;00m \u001b[43mimpl\u001b[49m\u001b[43m(\u001b[49m\u001b[43m*\u001b[49m\u001b[43margs\u001b[49m\u001b[43m,\u001b[49m\u001b[43m \u001b[49m\u001b[43m*\u001b[49m\u001b[43m*\u001b[49m\u001b[43mkwargs\u001b[49m\u001b[43m)\u001b[49m\n\u001b[32m     29\u001b[39m     \u001b[38;5;28;01melse\u001b[39;00m:\n\u001b[32m     30\u001b[39m         fails.append(\u001b[38;5;28mtype\u001b[39m(impl).\u001b[34m__name__\u001b[39m)\n",
      "\u001b[36mFile \u001b[39m\u001b[32m~/miniconda/envs/diy/lib/python3.12/site-packages/kagglehub/resolver.py:29\u001b[39m, in \u001b[36mResolver.__call__\u001b[39m\u001b[34m(self, handle, path, force_download)\u001b[39m\n\u001b[32m     15\u001b[39m \u001b[38;5;28;01mdef\u001b[39;00m\u001b[38;5;250m \u001b[39m\u001b[34m__call__\u001b[39m(\n\u001b[32m     16\u001b[39m     \u001b[38;5;28mself\u001b[39m, handle: T, path: Optional[\u001b[38;5;28mstr\u001b[39m] = \u001b[38;5;28;01mNone\u001b[39;00m, *, force_download: Optional[\u001b[38;5;28mbool\u001b[39m] = \u001b[38;5;28;01mFalse\u001b[39;00m\n\u001b[32m     17\u001b[39m ) -> \u001b[38;5;28mtuple\u001b[39m[\u001b[38;5;28mstr\u001b[39m, Optional[\u001b[38;5;28mint\u001b[39m]]:\n\u001b[32m     18\u001b[39m \u001b[38;5;250m    \u001b[39m\u001b[33;03m\"\"\"Resolves a handle into a path with the requested file(s) and the resource's version number.\u001b[39;00m\n\u001b[32m     19\u001b[39m \n\u001b[32m     20\u001b[39m \u001b[33;03m    Args:\u001b[39;00m\n\u001b[32m   (...)\u001b[39m\u001b[32m     27\u001b[39m \u001b[33;03m        Some cases where version number might be missing: Competition datasource, API-based models.\u001b[39;00m\n\u001b[32m     28\u001b[39m \u001b[33;03m    \"\"\"\u001b[39;00m\n\u001b[32m---> \u001b[39m\u001b[32m29\u001b[39m     path, version = \u001b[38;5;28;43mself\u001b[39;49m\u001b[43m.\u001b[49m\u001b[43m_resolve\u001b[49m\u001b[43m(\u001b[49m\u001b[43mhandle\u001b[49m\u001b[43m,\u001b[49m\u001b[43m \u001b[49m\u001b[43mpath\u001b[49m\u001b[43m,\u001b[49m\u001b[43m \u001b[49m\u001b[43mforce_download\u001b[49m\u001b[43m=\u001b[49m\u001b[43mforce_download\u001b[49m\u001b[43m)\u001b[49m\n\u001b[32m     31\u001b[39m     \u001b[38;5;66;03m# Note handles are immutable, so _resolve() could not have altered our reference\u001b[39;00m\n\u001b[32m     32\u001b[39m     register_datasource_access(handle, version)\n",
      "\u001b[36mFile \u001b[39m\u001b[32m~/miniconda/envs/diy/lib/python3.12/site-packages/kagglehub/http_resolver.py:130\u001b[39m, in \u001b[36mDatasetHttpResolver._resolve\u001b[39m\u001b[34m(self, h, path, force_download)\u001b[39m\n\u001b[32m    127\u001b[39m os.makedirs(os.path.dirname(archive_path), exist_ok=\u001b[38;5;28;01mTrue\u001b[39;00m)\n\u001b[32m    129\u001b[39m \u001b[38;5;66;03m# First, we download the archive.\u001b[39;00m\n\u001b[32m--> \u001b[39m\u001b[32m130\u001b[39m \u001b[43mapi_client\u001b[49m\u001b[43m.\u001b[49m\u001b[43mdownload_file\u001b[49m\u001b[43m(\u001b[49m\u001b[43murl_path\u001b[49m\u001b[43m,\u001b[49m\u001b[43m \u001b[49m\u001b[43marchive_path\u001b[49m\u001b[43m,\u001b[49m\u001b[43m \u001b[49m\u001b[43mh\u001b[49m\u001b[43m)\u001b[49m\n\u001b[32m    132\u001b[39m _extract_archive(archive_path, out_path)\n\u001b[32m    134\u001b[39m \u001b[38;5;66;03m# Delete the archive\u001b[39;00m\n",
      "\u001b[36mFile \u001b[39m\u001b[32m~/miniconda/envs/diy/lib/python3.12/site-packages/kagglehub/clients.py:217\u001b[39m, in \u001b[36mKaggleApiV1Client.download_file\u001b[39m\u001b[34m(self, path, out_file, resource_handle, cached_path, extract_auto_compressed_file)\u001b[39m\n\u001b[32m    215\u001b[39m \u001b[38;5;28;01melse\u001b[39;00m:\n\u001b[32m    216\u001b[39m     logger.info(\u001b[33mf\u001b[39m\u001b[33m\"\u001b[39m\u001b[33mDownloading from \u001b[39m\u001b[38;5;132;01m{\u001b[39;00murl\u001b[38;5;132;01m}\u001b[39;00m\u001b[33m...\u001b[39m\u001b[33m\"\u001b[39m)\n\u001b[32m--> \u001b[39m\u001b[32m217\u001b[39m     \u001b[43m_download_file\u001b[49m\u001b[43m(\u001b[49m\u001b[43mresponse\u001b[49m\u001b[43m,\u001b[49m\u001b[43m \u001b[49m\u001b[43mout_file\u001b[49m\u001b[43m,\u001b[49m\u001b[43m \u001b[49m\u001b[43msize_read\u001b[49m\u001b[43m,\u001b[49m\u001b[43m \u001b[49m\u001b[43mtotal_size\u001b[49m\u001b[43m,\u001b[49m\u001b[43m \u001b[49m\u001b[43mhash_object\u001b[49m\u001b[43m)\u001b[49m\n\u001b[32m    219\u001b[39m \u001b[38;5;28;01mif\u001b[39;00m hash_object:\n\u001b[32m    220\u001b[39m     actual_md5_hash = to_b64_digest(hash_object)\n",
      "\u001b[36mFile \u001b[39m\u001b[32m~/miniconda/envs/diy/lib/python3.12/site-packages/kagglehub/clients.py:276\u001b[39m, in \u001b[36m_download_file\u001b[39m\u001b[34m(response, out_file, size_read, total_size, hash_object)\u001b[39m\n\u001b[32m    274\u001b[39m \u001b[38;5;28;01mwith\u001b[39;00m tqdm(total=total_size, initial=size_read, unit=\u001b[33m\"\u001b[39m\u001b[33mB\u001b[39m\u001b[33m\"\u001b[39m, unit_scale=\u001b[38;5;28;01mTrue\u001b[39;00m, unit_divisor=\u001b[32m1024\u001b[39m) \u001b[38;5;28;01mas\u001b[39;00m progress_bar:\n\u001b[32m    275\u001b[39m     \u001b[38;5;28;01mwith\u001b[39;00m \u001b[38;5;28mopen\u001b[39m(out_file, open_mode) \u001b[38;5;28;01mas\u001b[39;00m f:\n\u001b[32m--> \u001b[39m\u001b[32m276\u001b[39m \u001b[43m        \u001b[49m\u001b[38;5;28;43;01mfor\u001b[39;49;00m\u001b[43m \u001b[49m\u001b[43mchunk\u001b[49m\u001b[43m \u001b[49m\u001b[38;5;129;43;01min\u001b[39;49;00m\u001b[43m \u001b[49m\u001b[43mresponse\u001b[49m\u001b[43m.\u001b[49m\u001b[43miter_content\u001b[49m\u001b[43m(\u001b[49m\u001b[43mCHUNK_SIZE\u001b[49m\u001b[43m)\u001b[49m\u001b[43m:\u001b[49m\n\u001b[32m    277\u001b[39m \u001b[43m            \u001b[49m\u001b[43mf\u001b[49m\u001b[43m.\u001b[49m\u001b[43mwrite\u001b[49m\u001b[43m(\u001b[49m\u001b[43mchunk\u001b[49m\u001b[43m)\u001b[49m\n\u001b[32m    278\u001b[39m \u001b[43m            \u001b[49m\u001b[38;5;28;43;01mif\u001b[39;49;00m\u001b[43m \u001b[49m\u001b[43mhash_object\u001b[49m\u001b[43m:\u001b[49m\n",
      "\u001b[36mFile \u001b[39m\u001b[32m~/miniconda/envs/diy/lib/python3.12/site-packages/requests/models.py:820\u001b[39m, in \u001b[36mResponse.iter_content.<locals>.generate\u001b[39m\u001b[34m()\u001b[39m\n\u001b[32m    818\u001b[39m \u001b[38;5;28;01mif\u001b[39;00m \u001b[38;5;28mhasattr\u001b[39m(\u001b[38;5;28mself\u001b[39m.raw, \u001b[33m\"\u001b[39m\u001b[33mstream\u001b[39m\u001b[33m\"\u001b[39m):\n\u001b[32m    819\u001b[39m     \u001b[38;5;28;01mtry\u001b[39;00m:\n\u001b[32m--> \u001b[39m\u001b[32m820\u001b[39m         \u001b[38;5;28;01myield from\u001b[39;00m \u001b[38;5;28mself\u001b[39m.raw.stream(chunk_size, decode_content=\u001b[38;5;28;01mTrue\u001b[39;00m)\n\u001b[32m    821\u001b[39m     \u001b[38;5;28;01mexcept\u001b[39;00m ProtocolError \u001b[38;5;28;01mas\u001b[39;00m e:\n\u001b[32m    822\u001b[39m         \u001b[38;5;28;01mraise\u001b[39;00m ChunkedEncodingError(e)\n",
      "\u001b[36mFile \u001b[39m\u001b[32m~/miniconda/envs/diy/lib/python3.12/site-packages/urllib3/response.py:1066\u001b[39m, in \u001b[36mHTTPResponse.stream\u001b[39m\u001b[34m(self, amt, decode_content)\u001b[39m\n\u001b[32m   1064\u001b[39m \u001b[38;5;28;01melse\u001b[39;00m:\n\u001b[32m   1065\u001b[39m     \u001b[38;5;28;01mwhile\u001b[39;00m \u001b[38;5;129;01mnot\u001b[39;00m is_fp_closed(\u001b[38;5;28mself\u001b[39m._fp) \u001b[38;5;129;01mor\u001b[39;00m \u001b[38;5;28mlen\u001b[39m(\u001b[38;5;28mself\u001b[39m._decoded_buffer) > \u001b[32m0\u001b[39m:\n\u001b[32m-> \u001b[39m\u001b[32m1066\u001b[39m         data = \u001b[38;5;28;43mself\u001b[39;49m\u001b[43m.\u001b[49m\u001b[43mread\u001b[49m\u001b[43m(\u001b[49m\u001b[43mamt\u001b[49m\u001b[43m=\u001b[49m\u001b[43mamt\u001b[49m\u001b[43m,\u001b[49m\u001b[43m \u001b[49m\u001b[43mdecode_content\u001b[49m\u001b[43m=\u001b[49m\u001b[43mdecode_content\u001b[49m\u001b[43m)\u001b[49m\n\u001b[32m   1068\u001b[39m         \u001b[38;5;28;01mif\u001b[39;00m data:\n\u001b[32m   1069\u001b[39m             \u001b[38;5;28;01myield\u001b[39;00m data\n",
      "\u001b[36mFile \u001b[39m\u001b[32m~/miniconda/envs/diy/lib/python3.12/site-packages/urllib3/response.py:955\u001b[39m, in \u001b[36mHTTPResponse.read\u001b[39m\u001b[34m(self, amt, decode_content, cache_content)\u001b[39m\n\u001b[32m    952\u001b[39m     \u001b[38;5;28;01mif\u001b[39;00m \u001b[38;5;28mlen\u001b[39m(\u001b[38;5;28mself\u001b[39m._decoded_buffer) >= amt:\n\u001b[32m    953\u001b[39m         \u001b[38;5;28;01mreturn\u001b[39;00m \u001b[38;5;28mself\u001b[39m._decoded_buffer.get(amt)\n\u001b[32m--> \u001b[39m\u001b[32m955\u001b[39m data = \u001b[38;5;28;43mself\u001b[39;49m\u001b[43m.\u001b[49m\u001b[43m_raw_read\u001b[49m\u001b[43m(\u001b[49m\u001b[43mamt\u001b[49m\u001b[43m)\u001b[49m\n\u001b[32m    957\u001b[39m flush_decoder = amt \u001b[38;5;129;01mis\u001b[39;00m \u001b[38;5;28;01mNone\u001b[39;00m \u001b[38;5;129;01mor\u001b[39;00m (amt != \u001b[32m0\u001b[39m \u001b[38;5;129;01mand\u001b[39;00m \u001b[38;5;129;01mnot\u001b[39;00m data)\n\u001b[32m    959\u001b[39m \u001b[38;5;28;01mif\u001b[39;00m \u001b[38;5;129;01mnot\u001b[39;00m data \u001b[38;5;129;01mand\u001b[39;00m \u001b[38;5;28mlen\u001b[39m(\u001b[38;5;28mself\u001b[39m._decoded_buffer) == \u001b[32m0\u001b[39m:\n",
      "\u001b[36mFile \u001b[39m\u001b[32m~/miniconda/envs/diy/lib/python3.12/site-packages/urllib3/response.py:879\u001b[39m, in \u001b[36mHTTPResponse._raw_read\u001b[39m\u001b[34m(self, amt, read1)\u001b[39m\n\u001b[32m    876\u001b[39m fp_closed = \u001b[38;5;28mgetattr\u001b[39m(\u001b[38;5;28mself\u001b[39m._fp, \u001b[33m\"\u001b[39m\u001b[33mclosed\u001b[39m\u001b[33m\"\u001b[39m, \u001b[38;5;28;01mFalse\u001b[39;00m)\n\u001b[32m    878\u001b[39m \u001b[38;5;28;01mwith\u001b[39;00m \u001b[38;5;28mself\u001b[39m._error_catcher():\n\u001b[32m--> \u001b[39m\u001b[32m879\u001b[39m     data = \u001b[38;5;28;43mself\u001b[39;49m\u001b[43m.\u001b[49m\u001b[43m_fp_read\u001b[49m\u001b[43m(\u001b[49m\u001b[43mamt\u001b[49m\u001b[43m,\u001b[49m\u001b[43m \u001b[49m\u001b[43mread1\u001b[49m\u001b[43m=\u001b[49m\u001b[43mread1\u001b[49m\u001b[43m)\u001b[49m \u001b[38;5;28;01mif\u001b[39;00m \u001b[38;5;129;01mnot\u001b[39;00m fp_closed \u001b[38;5;28;01melse\u001b[39;00m \u001b[33mb\u001b[39m\u001b[33m\"\u001b[39m\u001b[33m\"\u001b[39m\n\u001b[32m    880\u001b[39m     \u001b[38;5;28;01mif\u001b[39;00m amt \u001b[38;5;129;01mis\u001b[39;00m \u001b[38;5;129;01mnot\u001b[39;00m \u001b[38;5;28;01mNone\u001b[39;00m \u001b[38;5;129;01mand\u001b[39;00m amt != \u001b[32m0\u001b[39m \u001b[38;5;129;01mand\u001b[39;00m \u001b[38;5;129;01mnot\u001b[39;00m data:\n\u001b[32m    881\u001b[39m         \u001b[38;5;66;03m# Platform-specific: Buggy versions of Python.\u001b[39;00m\n\u001b[32m    882\u001b[39m         \u001b[38;5;66;03m# Close the connection when no data is returned\u001b[39;00m\n\u001b[32m   (...)\u001b[39m\u001b[32m    887\u001b[39m         \u001b[38;5;66;03m# not properly close the connection in all cases. There is\u001b[39;00m\n\u001b[32m    888\u001b[39m         \u001b[38;5;66;03m# no harm in redundantly calling close.\u001b[39;00m\n\u001b[32m    889\u001b[39m         \u001b[38;5;28mself\u001b[39m._fp.close()\n",
      "\u001b[36mFile \u001b[39m\u001b[32m~/miniconda/envs/diy/lib/python3.12/site-packages/urllib3/response.py:862\u001b[39m, in \u001b[36mHTTPResponse._fp_read\u001b[39m\u001b[34m(self, amt, read1)\u001b[39m\n\u001b[32m    859\u001b[39m     \u001b[38;5;28;01mreturn\u001b[39;00m \u001b[38;5;28mself\u001b[39m._fp.read1(amt) \u001b[38;5;28;01mif\u001b[39;00m amt \u001b[38;5;129;01mis\u001b[39;00m \u001b[38;5;129;01mnot\u001b[39;00m \u001b[38;5;28;01mNone\u001b[39;00m \u001b[38;5;28;01melse\u001b[39;00m \u001b[38;5;28mself\u001b[39m._fp.read1()\n\u001b[32m    860\u001b[39m \u001b[38;5;28;01melse\u001b[39;00m:\n\u001b[32m    861\u001b[39m     \u001b[38;5;66;03m# StringIO doesn't like amt=None\u001b[39;00m\n\u001b[32m--> \u001b[39m\u001b[32m862\u001b[39m     \u001b[38;5;28;01mreturn\u001b[39;00m \u001b[38;5;28;43mself\u001b[39;49m\u001b[43m.\u001b[49m\u001b[43m_fp\u001b[49m\u001b[43m.\u001b[49m\u001b[43mread\u001b[49m\u001b[43m(\u001b[49m\u001b[43mamt\u001b[49m\u001b[43m)\u001b[49m \u001b[38;5;28;01mif\u001b[39;00m amt \u001b[38;5;129;01mis\u001b[39;00m \u001b[38;5;129;01mnot\u001b[39;00m \u001b[38;5;28;01mNone\u001b[39;00m \u001b[38;5;28;01melse\u001b[39;00m \u001b[38;5;28mself\u001b[39m._fp.read()\n",
      "\u001b[36mFile \u001b[39m\u001b[32m~/miniconda/envs/diy/lib/python3.12/http/client.py:479\u001b[39m, in \u001b[36mHTTPResponse.read\u001b[39m\u001b[34m(self, amt)\u001b[39m\n\u001b[32m    476\u001b[39m \u001b[38;5;28;01mif\u001b[39;00m \u001b[38;5;28mself\u001b[39m.length \u001b[38;5;129;01mis\u001b[39;00m \u001b[38;5;129;01mnot\u001b[39;00m \u001b[38;5;28;01mNone\u001b[39;00m \u001b[38;5;129;01mand\u001b[39;00m amt > \u001b[38;5;28mself\u001b[39m.length:\n\u001b[32m    477\u001b[39m     \u001b[38;5;66;03m# clip the read to the \"end of response\"\u001b[39;00m\n\u001b[32m    478\u001b[39m     amt = \u001b[38;5;28mself\u001b[39m.length\n\u001b[32m--> \u001b[39m\u001b[32m479\u001b[39m s = \u001b[38;5;28;43mself\u001b[39;49m\u001b[43m.\u001b[49m\u001b[43mfp\u001b[49m\u001b[43m.\u001b[49m\u001b[43mread\u001b[49m\u001b[43m(\u001b[49m\u001b[43mamt\u001b[49m\u001b[43m)\u001b[49m\n\u001b[32m    480\u001b[39m \u001b[38;5;28;01mif\u001b[39;00m \u001b[38;5;129;01mnot\u001b[39;00m s \u001b[38;5;129;01mand\u001b[39;00m amt:\n\u001b[32m    481\u001b[39m     \u001b[38;5;66;03m# Ideally, we would raise IncompleteRead if the content-length\u001b[39;00m\n\u001b[32m    482\u001b[39m     \u001b[38;5;66;03m# wasn't satisfied, but it might break compatibility.\u001b[39;00m\n\u001b[32m    483\u001b[39m     \u001b[38;5;28mself\u001b[39m._close_conn()\n",
      "\u001b[36mFile \u001b[39m\u001b[32m~/miniconda/envs/diy/lib/python3.12/socket.py:707\u001b[39m, in \u001b[36mSocketIO.readinto\u001b[39m\u001b[34m(self, b)\u001b[39m\n\u001b[32m    705\u001b[39m \u001b[38;5;28;01mwhile\u001b[39;00m \u001b[38;5;28;01mTrue\u001b[39;00m:\n\u001b[32m    706\u001b[39m     \u001b[38;5;28;01mtry\u001b[39;00m:\n\u001b[32m--> \u001b[39m\u001b[32m707\u001b[39m         \u001b[38;5;28;01mreturn\u001b[39;00m \u001b[38;5;28;43mself\u001b[39;49m\u001b[43m.\u001b[49m\u001b[43m_sock\u001b[49m\u001b[43m.\u001b[49m\u001b[43mrecv_into\u001b[49m\u001b[43m(\u001b[49m\u001b[43mb\u001b[49m\u001b[43m)\u001b[49m\n\u001b[32m    708\u001b[39m     \u001b[38;5;28;01mexcept\u001b[39;00m timeout:\n\u001b[32m    709\u001b[39m         \u001b[38;5;28mself\u001b[39m._timeout_occurred = \u001b[38;5;28;01mTrue\u001b[39;00m\n",
      "\u001b[36mFile \u001b[39m\u001b[32m~/miniconda/envs/diy/lib/python3.12/ssl.py:1252\u001b[39m, in \u001b[36mSSLSocket.recv_into\u001b[39m\u001b[34m(self, buffer, nbytes, flags)\u001b[39m\n\u001b[32m   1248\u001b[39m     \u001b[38;5;28;01mif\u001b[39;00m flags != \u001b[32m0\u001b[39m:\n\u001b[32m   1249\u001b[39m         \u001b[38;5;28;01mraise\u001b[39;00m \u001b[38;5;167;01mValueError\u001b[39;00m(\n\u001b[32m   1250\u001b[39m           \u001b[33m\"\u001b[39m\u001b[33mnon-zero flags not allowed in calls to recv_into() on \u001b[39m\u001b[38;5;132;01m%s\u001b[39;00m\u001b[33m\"\u001b[39m %\n\u001b[32m   1251\u001b[39m           \u001b[38;5;28mself\u001b[39m.\u001b[34m__class__\u001b[39m)\n\u001b[32m-> \u001b[39m\u001b[32m1252\u001b[39m     \u001b[38;5;28;01mreturn\u001b[39;00m \u001b[38;5;28;43mself\u001b[39;49m\u001b[43m.\u001b[49m\u001b[43mread\u001b[49m\u001b[43m(\u001b[49m\u001b[43mnbytes\u001b[49m\u001b[43m,\u001b[49m\u001b[43m \u001b[49m\u001b[43mbuffer\u001b[49m\u001b[43m)\u001b[49m\n\u001b[32m   1253\u001b[39m \u001b[38;5;28;01melse\u001b[39;00m:\n\u001b[32m   1254\u001b[39m     \u001b[38;5;28;01mreturn\u001b[39;00m \u001b[38;5;28msuper\u001b[39m().recv_into(buffer, nbytes, flags)\n",
      "\u001b[36mFile \u001b[39m\u001b[32m~/miniconda/envs/diy/lib/python3.12/ssl.py:1104\u001b[39m, in \u001b[36mSSLSocket.read\u001b[39m\u001b[34m(self, len, buffer)\u001b[39m\n\u001b[32m   1102\u001b[39m \u001b[38;5;28;01mtry\u001b[39;00m:\n\u001b[32m   1103\u001b[39m     \u001b[38;5;28;01mif\u001b[39;00m buffer \u001b[38;5;129;01mis\u001b[39;00m \u001b[38;5;129;01mnot\u001b[39;00m \u001b[38;5;28;01mNone\u001b[39;00m:\n\u001b[32m-> \u001b[39m\u001b[32m1104\u001b[39m         \u001b[38;5;28;01mreturn\u001b[39;00m \u001b[38;5;28;43mself\u001b[39;49m\u001b[43m.\u001b[49m\u001b[43m_sslobj\u001b[49m\u001b[43m.\u001b[49m\u001b[43mread\u001b[49m\u001b[43m(\u001b[49m\u001b[38;5;28;43mlen\u001b[39;49m\u001b[43m,\u001b[49m\u001b[43m \u001b[49m\u001b[43mbuffer\u001b[49m\u001b[43m)\u001b[49m\n\u001b[32m   1105\u001b[39m     \u001b[38;5;28;01melse\u001b[39;00m:\n\u001b[32m   1106\u001b[39m         \u001b[38;5;28;01mreturn\u001b[39;00m \u001b[38;5;28mself\u001b[39m._sslobj.read(\u001b[38;5;28mlen\u001b[39m)\n",
      "\u001b[31mKeyboardInterrupt\u001b[39m: "
     ]
    }
   ],
   "source": [
    "import kagglehub\n",
    "path = kagglehub.dataset_download(\"pranayprasad/aclimdb\")"
   ]
  },
  {
   "cell_type": "markdown",
   "id": "e042f8ac",
   "metadata": {},
   "source": [
    "#### Pre-processing text"
   ]
  },
  {
   "cell_type": "code",
   "execution_count": 4,
   "id": "3e1aabb0",
   "metadata": {},
   "outputs": [],
   "source": [
    "import nltk\n",
    "#nltk.download('stopwords') \n",
    "from nltk.corpus import stopwords\n",
    "stopwords = set(stopwords.words(\"english\"))"
   ]
  },
  {
   "cell_type": "code",
   "execution_count": null,
   "id": "d60fd5d6",
   "metadata": {},
   "outputs": [],
   "source": [
    "def pre_process_text(all_files):\n",
    "    all_words, seq_len = [], []\n",
    "    for f_name in all_files:\n",
    "        text = open(f_name).readlines()[0].lower()\n",
    "        text = re.sub ( r'[^\\w\\s]', '', text)\n",
    "        words = text.split(\" \")\n",
    "        words = [w for w in words if (w not in stopwords) and (len(w) >=0) ]\n",
    "        all_words+=words\n",
    "        seq_len.append(len(words))\n",
    "    return (all_words, seq_len)\n",
    "\n",
    "train_dir = \"../data/aclImdb/train\"\n",
    "\n",
    "all_files = ([ os.path.join ( train_dir,  f\"pos/{f_name}\") for f_name in  os.listdir(f\"{train_dir}/pos\")] + \n",
    "             [ os.path.join ( train_dir,  f\"neg/{f_name}\") for f_name in  os.listdir(f\"{train_dir}/neg\")] )\n",
    "\n",
    "train_words, sentence_len = pre_process_text(all_files)"
   ]
  },
  {
   "cell_type": "code",
   "execution_count": 7,
   "id": "e2cbffa5",
   "metadata": {},
   "outputs": [
    {
     "data": {
      "text/plain": [
       "'avg sentence length: 125.16576'"
      ]
     },
     "execution_count": 7,
     "metadata": {},
     "output_type": "execute_result"
    }
   ],
   "source": [
    "f\"avg sentence length: {np.mean(sentence_len)}\""
   ]
  },
  {
   "cell_type": "markdown",
   "id": "d65cb49a",
   "metadata": {},
   "source": [
    "#### Creating Tokenizer"
   ]
  },
  {
   "cell_type": "code",
   "execution_count": 8,
   "id": "fe6dc770",
   "metadata": {},
   "outputs": [],
   "source": [
    "bog = dict(Counter(train_words))\n",
    "words = sorted([key for (key,value) in bog.items() if value > 500])\n",
    "\n",
    "words.append(\"<UNK>\")\n",
    "words.append(\"<PAD>\")\n",
    "\n",
    "w2i = {w: i for i, w in enumerate(words)}\n",
    "i2w = {i: w for i, w in enumerate(words)}"
   ]
  },
  {
   "cell_type": "markdown",
   "id": "314ca227",
   "metadata": {},
   "source": [
    "#### Defining Dataloader"
   ]
  },
  {
   "cell_type": "code",
   "execution_count": 30,
   "id": "4bfa8be8",
   "metadata": {},
   "outputs": [
    {
     "name": "stdout",
     "output_type": "stream",
     "text": [
      "tensor([[990, 221, 990,  ...,  64, 990, 991],\n",
      "        [  0, 990, 972,  ..., 991, 991, 991],\n",
      "        [990, 798, 990,  ..., 991, 991, 991],\n",
      "        ...,\n",
      "        [422,  68, 564,  ..., 991, 991, 991],\n",
      "        [562, 990, 940,  ..., 991, 991, 991],\n",
      "        [745, 990, 990,  ..., 991, 991, 991]]) tensor([1, 0, 0, 1, 1, 1, 0, 0, 0, 0, 0, 0, 1, 0, 0, 1])\n"
     ]
    }
   ],
   "source": [
    "class IMDBDataLoader(Dataset):\n",
    "    def __init__(self, data_path, tokenizer, max_seq_len = 200):\n",
    "        self.tokenizer = w2i\n",
    "        self.max_seq_len = max_seq_len\n",
    "        self.data_files = ([ os.path.join ( data_path,  f\"pos/{f_name}\") for f_name in  os.listdir(f\"{data_path}/pos\")] + \n",
    "             [ os.path.join ( data_path,  f\"neg/{f_name}\") for f_name in  os.listdir(f\"{data_path}/neg\")] )\n",
    "\n",
    "    def __len__(self):\n",
    "        return len(self.data_files)\n",
    "\n",
    "    def __getitem__(self, idx):\n",
    "        file_path = self.data_files[idx]\n",
    "\n",
    "        def get_sample(f_name):\n",
    "            text = open(f_name).readlines()[0].lower()\n",
    "            text = re.sub ( r'[^\\w\\s]', '', text)\n",
    "            words = text.split(\" \")\n",
    "            return [w for w in words if (w not in stopwords) and (len(w) >=0) ]\n",
    "\n",
    "        def get_tokenzied_sample_seq(f_name):\n",
    "            sample = get_sample(f_name)\n",
    "            # if more than seq_len, trim it\n",
    "            if len(sample) > self.max_seq_len:\n",
    "                rand_start_idx = np.random.randint( (len(sample) - self.max_seq_len) )\n",
    "                sample = sample[rand_start_idx: (rand_start_idx + self.max_seq_len) ]\n",
    "\n",
    "            ## tokenized result\n",
    "            tokenized = []\n",
    "            for w in sample:\n",
    "                if w in self.tokenizer:\n",
    "                    tokenized.append(self.tokenizer[w])\n",
    "                else:\n",
    "                    tokenized.append(self.tokenizer[\"<UNK>\"])\n",
    "            \n",
    "            sample = torch.tensor(tokenized)\n",
    "            return sample\n",
    "\n",
    "        sample = get_tokenzied_sample_seq(file_path)\n",
    "\n",
    "        ## label\n",
    "        label = 1\n",
    "        if \"neg\" in file_path: label = 0\n",
    "        return sample, label\n",
    "\n",
    "def data_collator(batch):\n",
    "    word_tokens, labels = [], []\n",
    "    for token, label in batch:\n",
    "        labels.append(label)\n",
    "        word_tokens.append(token)\n",
    "\n",
    "    labels = torch.tensor(labels)\n",
    "    \n",
    "    word_tokens = nn.utils.rnn.pad_sequence(word_tokens, batch_first=True, padding_value=w2i[\"<PAD>\"])\n",
    "    return word_tokens, labels\n",
    "\n",
    "train_ds = IMDBDataLoader(train_dir, tokenizer=w2i)\n",
    "\n",
    "train_data_loader = DataLoader(dataset=train_ds, batch_size=16, shuffle=True, collate_fn=data_collator)\n",
    "\n",
    "for (s, l) in train_data_loader:\n",
    "    # (B x T x C)\n",
    "    print(s, l)\n",
    "    break"
   ]
  },
  {
   "attachments": {
    "image.png": {
     "image/png": "[encoded data removed]"
    }
   },
   "cell_type": "markdown",
   "id": "e005e3ca",
   "metadata": {},
   "source": [
    "![image.png](attachment:image.png)\n",
    "\n",
    "\n",
    "[source ](https://stackoverflow.com/questions/48302810/whats-the-difference-between-hidden-and-output-in-pytorch-lstm)"
   ]
  },
  {
   "cell_type": "code",
   "execution_count": 11,
   "id": "514b9840",
   "metadata": {},
   "outputs": [
    {
     "name": "stdout",
     "output_type": "stream",
     "text": [
      "torch.Size([4, 8, 16])\n",
      "torch.Size([2, 4, 16])\n",
      "torch.Size([2, 4, 16])\n"
     ]
    }
   ],
   "source": [
    "batch_size = 4  # per seq at once\n",
    "seq_len = 8     # seq length (n - unrolling)\n",
    "input_size = 5  # input feature/emb projection of each token (input to model)\n",
    "hddn_size = 16  # dim of input neurons\n",
    "n_layers = 2    # n of LSTM layer stacked\n",
    "\n",
    "_input = torch.randn((batch_size, seq_len, input_size)) # B x T x C\n",
    "lstm = nn.LSTM(input_size = input_size, hidden_size=hddn_size, num_layers=n_layers, batch_first=True) \n",
    "\n",
    "output, (h0, c0) = lstm(_input)\n",
    "print(output.shape) # B x T x hddn_size\n",
    "print(h0.shape) # n_layer x B x hddn_size\n",
    "print(c0.shape) # n_layer x B x hddn_size"
   ]
  },
  {
   "cell_type": "markdown",
   "id": "1a9e86e9",
   "metadata": {},
   "source": [
    "#### Defining LSTM model"
   ]
  },
  {
   "cell_type": "code",
   "execution_count": 87,
   "id": "9968c3e3",
   "metadata": {},
   "outputs": [
    {
     "name": "stdout",
     "output_type": "stream",
     "text": [
      "LSTMNet(\n",
      "  (embs): Embedding(992, 8)\n",
      "  (lstm): LSTM(8, 10, num_layers=2, batch_first=True)\n",
      "  (dropout): Dropout(p=0.1, inplace=False)\n",
      "  (fc): Linear(in_features=10, out_features=2, bias=True)\n",
      ")\n",
      "torch.Size([128, 200]) torch.Size([128])\n",
      "tensor([[-0.0379,  0.0855],\n",
      "        [-0.0804,  0.0452],\n",
      "        [-0.0490,  0.0540],\n",
      "        [-0.0441,  0.0717],\n",
      "        [-0.0321,  0.0755],\n",
      "        [-0.0395,  0.0669],\n",
      "        [-0.0343,  0.0943],\n",
      "        [-0.0390,  0.0649],\n",
      "        [-0.0394,  0.0668],\n",
      "        [-0.0768,  0.0356],\n",
      "        [-0.0269,  0.1029],\n",
      "        [-0.0395,  0.0669],\n",
      "        [-0.0455,  0.0710],\n",
      "        [-0.0343,  0.0943],\n",
      "        [-0.0506,  0.0621],\n",
      "        [-0.0395,  0.0669],\n",
      "        [-0.0394,  0.0668],\n",
      "        [-0.0368,  0.0534],\n",
      "        [-0.0379,  0.0588],\n",
      "        [-0.0359,  0.0573],\n",
      "        [-0.0506,  0.0621],\n",
      "        [-0.0417,  0.0671],\n",
      "        [-0.0359,  0.0573],\n",
      "        [-0.0379,  0.0588],\n",
      "        [-0.0455,  0.0710],\n",
      "        [-0.0395,  0.0669],\n",
      "        [-0.0863,  0.0679],\n",
      "        [-0.0395,  0.0669],\n",
      "        [-0.0359,  0.0573],\n",
      "        [-0.0339,  0.0942],\n",
      "        [-0.0211,  0.0252],\n",
      "        [-0.0389,  0.0483],\n",
      "        [-0.0275,  0.0779],\n",
      "        [-0.0395,  0.0669],\n",
      "        [-0.0555,  0.0610],\n",
      "        [-0.0804,  0.0452],\n",
      "        [-0.0804,  0.0452],\n",
      "        [-0.0247,  0.0704],\n",
      "        [-0.0174,  0.0711],\n",
      "        [-0.0323,  0.0558],\n",
      "        [-0.0395,  0.0669],\n",
      "        [-0.0384,  0.0616],\n",
      "        [-0.0321,  0.0755],\n",
      "        [-0.0450,  0.0592],\n",
      "        [-0.0395,  0.0669],\n",
      "        [-0.0395,  0.0669],\n",
      "        [-0.0320,  0.0755],\n",
      "        [-0.0359,  0.0573],\n",
      "        [-0.0395,  0.0669],\n",
      "        [-0.0384,  0.0616],\n",
      "        [-0.0395,  0.0669],\n",
      "        [-0.0395,  0.0669],\n",
      "        [-0.0395,  0.0669],\n",
      "        [-0.0384,  0.0616],\n",
      "        [-0.0286,  0.0767],\n",
      "        [-0.0406,  0.0618],\n",
      "        [-0.0395,  0.0669],\n",
      "        [-0.0379,  0.0614],\n",
      "        [-0.0455,  0.0710],\n",
      "        [-0.0233,  0.0706],\n",
      "        [-0.0304,  0.0674],\n",
      "        [-0.0047,  0.0919],\n",
      "        [-0.0395,  0.0669],\n",
      "        [-0.0269,  0.0600],\n",
      "        [-0.0180,  0.0069],\n",
      "        [-0.0350,  0.0898],\n",
      "        [-0.0310,  0.0702],\n",
      "        [-0.0406,  0.0618],\n",
      "        [-0.0395,  0.0669],\n",
      "        [-0.0340,  0.0833],\n",
      "        [-0.0395,  0.0669],\n",
      "        [-0.0330,  0.0568],\n",
      "        [-0.0379,  0.0588],\n",
      "        [-0.0458,  0.1003],\n",
      "        [-0.0321,  0.0755],\n",
      "        [-0.0388,  0.0664],\n",
      "        [-0.0301,  0.0619],\n",
      "        [-0.0395,  0.0669],\n",
      "        [-0.0343,  0.0943],\n",
      "        [-0.0334,  0.0611],\n",
      "        [-0.0359,  0.0573],\n",
      "        [-0.0307,  0.0846],\n",
      "        [-0.0350,  0.0692],\n",
      "        [-0.0292,  0.0389],\n",
      "        [-0.0591,  0.0649],\n",
      "        [-0.0864,  0.0494],\n",
      "        [-0.0455,  0.0895],\n",
      "        [-0.0350,  0.0692],\n",
      "        [-0.0395,  0.0669],\n",
      "        [-0.0885,  0.0496],\n",
      "        [-0.0395,  0.0669],\n",
      "        [-0.0331,  0.0700],\n",
      "        [-0.0381,  0.0666],\n",
      "        [-0.0332,  0.0889],\n",
      "        [-0.0395,  0.0669],\n",
      "        [-0.0395,  0.0669],\n",
      "        [-0.0506,  0.0621],\n",
      "        [-0.0343,  0.0943],\n",
      "        [-0.0334,  0.0611],\n",
      "        [-0.0321,  0.0755],\n",
      "        [-0.0412,  0.0271],\n",
      "        [-0.0751,  0.0275],\n",
      "        [-0.0506,  0.0621],\n",
      "        [-0.0395,  0.0669],\n",
      "        [-0.0804,  0.0452],\n",
      "        [-0.0243,  0.0344],\n",
      "        [-0.0395,  0.0669],\n",
      "        [-0.0544,  0.0753],\n",
      "        [-0.0401,  0.0590],\n",
      "        [-0.0555,  0.0760],\n",
      "        [-0.0752,  0.0726],\n",
      "        [-0.0455,  0.0710],\n",
      "        [-0.0395,  0.0669],\n",
      "        [-0.0343,  0.0943],\n",
      "        [-0.0550,  0.0786],\n",
      "        [-0.0134,  0.0942],\n",
      "        [-0.0343,  0.0943],\n",
      "        [-0.0395,  0.0669],\n",
      "        [-0.0359,  0.0573],\n",
      "        [-0.0395,  0.0669],\n",
      "        [-0.0359,  0.0573],\n",
      "        [-0.0359,  0.0573],\n",
      "        [-0.0455,  0.0710],\n",
      "        [-0.0414,  0.0671],\n",
      "        [-0.0395,  0.0669],\n",
      "        [-0.0321,  0.0755],\n",
      "        [-0.0321,  0.0755],\n",
      "        [-0.0417,  0.0671]], grad_fn=<AddmmBackward0>)\n"
     ]
    }
   ],
   "source": [
    "class LSTMNet(nn.Module):\n",
    "    def __init__(self, emb_dim, hidden_size, vocab_size, n_layers, n_outs):\n",
    "        super().__init__()\n",
    "        self.emb_dim = emb_dim          # input to emb\n",
    "        self.hidden_size = hidden_size  # LSTM internal NN size\n",
    "        self.vocab_size = vocab_size    # len(tokenizer)\n",
    "        self.n_layers = n_layers        # stacked lstm layers\n",
    "        self.n_outs = n_outs            # output class\n",
    "\n",
    "        ## project input\n",
    "        self.embs = nn.Embedding(num_embeddings=self.vocab_size, embedding_dim=self.emb_dim)\n",
    "        ## define lstm\n",
    "        self.lstm = nn.LSTM(input_size=self.emb_dim, hidden_size=self.hidden_size,\n",
    "                            num_layers=self.n_layers, batch_first=True)\n",
    "        ## out classifier\n",
    "        self.dropout = nn.Dropout(0.1)\n",
    "        self.fc = nn.Linear(self.hidden_size, self.n_outs)\n",
    "\n",
    "    def forward(self, x):\n",
    "        embs = self.embs(x)  # B x seq_len x emb_dim\n",
    "        ## pass through lstm\n",
    "        outputs, (hn, cn) = self.lstm(embs)\n",
    "        # Take last out and return out class\n",
    "        last_neuron = outputs[:, -1, :] # last step neuron ; B x hddn_size\n",
    "        out = self.dropout(last_neuron)\n",
    "        out = self.fc(out) # B x 1 x hddn -> B x vocab_size\n",
    "        return out \n",
    "    \n",
    "model = LSTMNet(emb_dim=8, hidden_size=10, vocab_size=len(w2i), n_layers=2, n_outs=2)\n",
    "print(model)\n",
    "for x, label in train_data_loader:\n",
    "    print(x.shape, label.shape)\n",
    "    outs = model(x)\n",
    "    print(outs)\n",
    "    break"
   ]
  },
  {
   "cell_type": "markdown",
   "id": "6a39c316",
   "metadata": {},
   "source": [
    "#### Training"
   ]
  },
  {
   "cell_type": "code",
   "execution_count": null,
   "id": "8168c814",
   "metadata": {},
   "outputs": [],
   "source": [
    "## define dataset\n",
    "train_ds = IMDBDataLoader(\"../data/aclImdb/train\", tokenizer=w2i)\n",
    "val_ds = IMDBDataLoader(\"../data/aclImdb/test\", tokenizer=w2i)\n",
    "train_data_loader = DataLoader(dataset=train_ds, batch_size=128, shuffle=True, collate_fn=data_collator)\n",
    "val_data_loader = DataLoader(val_ds, batch_size=128, shuffle=True, collate_fn=data_collator)"
   ]
  },
  {
   "cell_type": "code",
   "execution_count": 55,
   "id": "53806e1f",
   "metadata": {},
   "outputs": [
    {
     "name": "stdout",
     "output_type": "stream",
     "text": [
      "0.0005\n"
     ]
    }
   ],
   "source": [
    "print(float(5e-4))"
   ]
  },
  {
   "cell_type": "code",
   "execution_count": 88,
   "id": "7dbe5381",
   "metadata": {},
   "outputs": [
    {
     "name": "stdout",
     "output_type": "stream",
     "text": [
      "Training on cpu\n",
      "model = LSTMNet(\n",
      "  (embs): Embedding(992, 128)\n",
      "  (lstm): LSTM(128, 256, num_layers=2, batch_first=True)\n",
      "  (dropout): Dropout(p=0.1, inplace=False)\n",
      "  (fc): Linear(in_features=256, out_features=2, bias=True)\n",
      ")\n"
     ]
    }
   ],
   "source": [
    "## defining pre-train\n",
    "DEVICE = \"cuda\" if torch.cuda.is_available() else \"cpu\"\n",
    "print(f\"Training on {DEVICE}\")\n",
    "batch_size = 128\n",
    "\n",
    "## model\n",
    "model = LSTMNet(\n",
    "    emb_dim=128,\n",
    "    hidden_size=256,\n",
    "    vocab_size=len(w2i), \n",
    "    n_layers=2,\n",
    "    n_outs=2\n",
    ")\n",
    "model = model.to(DEVICE)\n",
    "print(f\"{model = }\")\n",
    "\n",
    "optm = optim.Adam(params=model.parameters(), lr=5e-4)\n",
    "loss_fn = nn.CrossEntropyLoss()"
   ]
  },
  {
   "cell_type": "code",
   "execution_count": 98,
   "id": "26ec5c47",
   "metadata": {},
   "outputs": [],
   "source": [
    "def train(epochs, model, train_data_loader, val_data_loader, optm, loss_fn):\n",
    "    logs = {\n",
    "        \"epoch\" : [],\n",
    "        \"training_loss\": [],\n",
    "        \"val_loss\": [],\n",
    "        \"training_acc\": [],\n",
    "        \"val_acc\": [],\n",
    "    }\n",
    "    save_path = \"best_model.pt\"\n",
    "\n",
    "    for epoch in range(1, epochs+1):\n",
    "        print(f\"Epoch: {epoch}/ {epochs}\")\n",
    "        train_acc, val_acc, train_loss, val_loss = [], [], [], []\n",
    "\n",
    "        model.train()\n",
    "        for x, labels in tqdm(train_data_loader, desc = \"Training\"):\n",
    "            ## data through model\n",
    "            x, labels = x.to(DEVICE), labels.to(DEVICE)\n",
    "            optm.zero_grad()\n",
    "            outputs = model(x)\n",
    "\n",
    "            ## calc acc\n",
    "            preds = torch.argmax(outputs, axis=1)\n",
    "            acc = ( (preds == labels).sum().float() )/ len(preds)\n",
    "            train_acc.append(acc.item())\n",
    "\n",
    "            ## Loss \n",
    "            loss = loss_fn(outputs, labels)\n",
    "            train_loss.append(loss.item())\n",
    "            loss.backward()\n",
    "\n",
    "            ## clip exp gradiants\n",
    "            nn.utils.clip_grad_norm_(model.parameters(), 5)\n",
    "            optm.step()\n",
    "\n",
    "        model.eval()\n",
    "        for x, labels in tqdm(val_data_loader, desc = \"Validation\"):\n",
    "            ## data through model\n",
    "            x, labels = x.to(DEVICE), labels.to(DEVICE)\n",
    "            with torch.no_grad():\n",
    "                ## forward\n",
    "                outputs = model(x)\n",
    "\n",
    "                ## calc acc\n",
    "                preds = torch.argmax(outputs, axis=1)\n",
    "                acc = ( (preds == labels).sum().float() )/ len(preds)\n",
    "                val_acc.append(acc.item())\n",
    "\n",
    "                ## Loss \n",
    "                loss = loss_fn(outputs, labels)\n",
    "                val_loss.append(loss.item())\n",
    "\n",
    "        logs[\"epoch\"].append(epoch)\n",
    "        logs[\"training_acc\"].append(np.mean(train_acc))\n",
    "        logs[\"val_acc\"].append(np.mean(val_acc))\n",
    "        logs[\"training_loss\"].append(np.mean(train_loss))\n",
    "        logs[\"val_loss\"].append(np.mean(val_loss))\n",
    "\n",
    "        print(\n",
    "            f\"Epoch {epoch} | \"\n",
    "            f\"Train Loss: {logs['training_loss'][-1]:.4f} | Val Loss: {logs['val_loss'][-1]:.4f} | \"\n",
    "            f\"Train Acc: {logs['training_acc'][-1]:.4f} | Val Acc: {logs['val_acc'][-1]:.4f}\"\n",
    "        )\n",
    "\n",
    "    if logs[\"val_loss\"][-1] < best_val_loss:\n",
    "        best_val_loss = logs[\"val_loss\"][-1]\n",
    "        torch.save(model.state_dict(), save_path)\n",
    "        print(f\"Best model saved to {save_path}\")\n",
    "\n",
    "    return logs, model"
   ]
  },
  {
   "cell_type": "code",
   "execution_count": 97,
   "id": "236b11f3",
   "metadata": {},
   "outputs": [
    {
     "name": "stdout",
     "output_type": "stream",
     "text": [
      "Epoch: 1/ 1\n"
     ]
    },
    {
     "name": "stderr",
     "output_type": "stream",
     "text": [
      "100%|██████████| 196/196 [04:15<00:00,  1.30s/it]\n",
      "100%|██████████| 196/196 [01:58<00:00,  1.65it/s]"
     ]
    },
    {
     "name": "stdout",
     "output_type": "stream",
     "text": [
      "{'epoch': [1], 'training_loss': [np.float64(0.6924866401419347)], 'val_loss': [np.float64(0.6928390839270183)], 'training_acc': [np.float64(0.505436862305719)], 'val_acc': [np.float64(0.5128906250608211)]}\n"
     ]
    },
    {
     "name": "stderr",
     "output_type": "stream",
     "text": [
      "\n"
     ]
    }
   ],
   "source": [
    "train_logs, model = train(\n",
    "    epochs=1,\n",
    "    model=model,\n",
    "    train_data_loader=train_data_loader,\n",
    "    val_data_loader=val_data_loader,\n",
    "    optm=optm,\n",
    "    loss_fn=loss_fn\n",
    ")\n",
    "\n",
    "torch.save(model.state_dict(), \"final_model.pt\")"
   ]
  }
 ],
 "metadata": {
  "kernelspec": {
   "display_name": "diy",
   "language": "python",
   "name": "python3"
  },
  "language_info": {
   "codemirror_mode": {
    "name": "ipython",
    "version": 3
   },
   "file_extension": ".py",
   "mimetype": "text/x-python",
   "name": "python",
   "nbconvert_exporter": "python",
   "pygments_lexer": "ipython3",
   "version": "3.12.2"
  }
 },
 "nbformat": 4,
 "nbformat_minor": 5
}
