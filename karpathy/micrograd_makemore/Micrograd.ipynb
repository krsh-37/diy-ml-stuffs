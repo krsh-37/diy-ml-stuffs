{
 "cells": [
  {
   "cell_type": "code",
   "execution_count": null,
   "id": "01891e8e",
   "metadata": {},
   "outputs": [],
   "source": [
    "from graphviz import Digraph\n",
    "import numpy as np\n",
    "import matplotlib.pyplot as plt\n",
    "import seaborn as sns\n",
    "import random"
   ]
  },
  {
   "cell_type": "code",
   "execution_count": 2,
   "id": "3436d553",
   "metadata": {},
   "outputs": [
    {
     "data": {
      "text/plain": [
       "2.718281828459045"
      ]
     },
     "execution_count": 2,
     "metadata": {},
     "output_type": "execute_result"
    }
   ],
   "source": [
    "np.exp(1)"
   ]
  },
  {
   "cell_type": "code",
   "execution_count": 3,
   "id": "319f7453",
   "metadata": {},
   "outputs": [
    {
     "data": {
      "text/plain": [
       "0.9950547536867306"
      ]
     },
     "execution_count": 3,
     "metadata": {},
     "output_type": "execute_result"
    }
   ],
   "source": [
    "e = np.exp(3)\n",
    "data = (e - 1/e)/(e + 1/e)\n",
    "data"
   ]
  },
  {
   "cell_type": "code",
   "execution_count": null,
   "id": "b5853236-9589-439f-b903-c26f6edd802c",
   "metadata": {},
   "outputs": [],
   "source": [
    "class Node:\n",
    "\n",
    "    def __init__(self, data, _children=(), _op=''):\n",
    "        self.data = data\n",
    "        self.grad = 0\n",
    "        \n",
    "        self._backward = lambda: None\n",
    "        self._prev = set(_children)\n",
    "        self._op = _op\n",
    "        \n",
    "    def __add__(self, other):\n",
    "        other = other if isinstance(other, Node) else Node(other)\n",
    "        out_value = Node(self.data + other.data, (self, other), '+')\n",
    "        \n",
    "        def _backward():\n",
    "            self.grad += 1.0 * out_value.grad\n",
    "            other.grad += 1.0 * out_value.grad\n",
    "            \n",
    "        out_value._backward = _backward\n",
    "            \n",
    "        return out_value\n",
    "    \n",
    "    def __mul__(self, other):\n",
    "        other = other if isinstance(other, Node) else Node(other)\n",
    "        out_value = Node(self.data * other.data, (self, other), '*')\n",
    "        \n",
    "        def _backward():\n",
    "            self.grad += other.data * out_value.grad\n",
    "            other.grad += self.data * out_value.grad\n",
    "        \n",
    "        out_value._backward = _backward\n",
    "            \n",
    "        return out_value\n",
    "\n",
    "    def __pow__(self, other):\n",
    "        assert isinstance(other, (int, float)), \"only int/ float can be used for pow\"\n",
    "        out_value = Node(self.data ** other, (self,))\n",
    "        \n",
    "        def _backward():\n",
    "            self.grad += (other) * (self.data ** (other-1)) * out_value.grad\n",
    "            \n",
    "        out_value._backward = _backward\n",
    "        return out_value\n",
    "    \n",
    "    def exp(self):\n",
    "        out_value = Node(np.exp(self.data), (self,))\n",
    "        \n",
    "        def _backward():\n",
    "            self.grad += out_value.data * out_value.grad\n",
    "            \n",
    "        out_value._backward = _backward\n",
    "        return out_value\n",
    "    \n",
    "    def tanh(self):\n",
    "        e = self.exp()\n",
    "        data = (e - 1/e)/(e + 1/e)\n",
    "        out_value = Node( data.data, (self,) )\n",
    "        \n",
    "        def _backward():\n",
    "            self.grad += (1 - (out_value.data)**2) * out_value.grad\n",
    "            \n",
    "        out_value._backward = _backward\n",
    "        return out_value\n",
    "    \n",
    "    def relu(self):\n",
    "        out_value = Node( 0 if self.data < 0 else self.data, (self,))\n",
    "        \n",
    "        def _backward():\n",
    "            self.grad += (out_value.data > 0) * out_value.grad\n",
    "        out_value._backward = _backward\n",
    "        return out_value\n",
    "    \n",
    "    def __rmul__(self, other):\n",
    "        return self * other\n",
    "    \n",
    "    def __radd__(self, other):\n",
    "        return self + other\n",
    "    \n",
    "    def __neg__(self):\n",
    "        return -1 * (self)\n",
    "    \n",
    "    def __sub__(self, other):\n",
    "        return self + (-other)\n",
    "    \n",
    "    def __truediv__(self, other):\n",
    "        return self * (other ** -1) \n",
    "    def __rtruediv__(self, other):\n",
    "        return other * (self ** -1) \n",
    "    \n",
    "    def backward(self):\n",
    "        topo, visited = [], set()\n",
    "        def topological_sort(v):\n",
    "            if v not in visited:\n",
    "                visited.add(v)\n",
    "                for child in v._prev:\n",
    "                    topological_sort(child)\n",
    "                #print(v)\n",
    "                topo.append(v)\n",
    "        topological_sort(self)\n",
    "        \n",
    "        # set current self grad to 1\n",
    "        self.grad = 1\n",
    "        for v in reversed(topo):\n",
    "            #print(v)\n",
    "            v._backward()\n",
    " \n",
    "    \n",
    "    def __repr__(self):\n",
    "        return (f\"Node(data={self.data}, grad={self.grad})\")\n",
    "\n",
    "    def trace(root):\n",
    "        nodes, edges = set(), set()\n",
    "        def build(v):\n",
    "            if v not in nodes:\n",
    "                nodes.add(v)\n",
    "                for child in v._prev:\n",
    "                    edges.add((child, v))\n",
    "                    build(child)\n",
    "        build(root)\n",
    "        return nodes, edges\n",
    "\n",
    "    def draw_dot(self, format='svg', rankdir='LR'):\n",
    "        \"\"\"\n",
    "        format: png | svg | ...\n",
    "        rankdir: TB (top to bottom graph) | LR (left to right)\n",
    "        \"\"\"\n",
    "        assert rankdir in ['LR', 'TB']\n",
    "        nodes, edges = self.trace()\n",
    "        dot = Digraph(format=format, graph_attr={'rankdir': rankdir}) #, node_attr={'rankdir': 'TB'})\n",
    "\n",
    "        for n in nodes:\n",
    "            dot.node(name=str(id(n)), label = \"{ data %.4f | grad %.4f }\" % (n.data, n.grad), shape='record')\n",
    "            if n._op:\n",
    "                dot.node(name=str(id(n)) + n._op, label=n._op) \n",
    "                dot.edge(str(id(n)) + n._op, str(id(n)))\n",
    "\n",
    "        for n1, n2 in edges:\n",
    "            dot.edge(str(id(n1)), str(id(n2)) + n2._op)\n",
    "\n",
    "        return dot\n"
   ]
  },
  {
   "cell_type": "code",
   "execution_count": 8,
   "id": "d30c94ff",
   "metadata": {},
   "outputs": [
    {
     "data": {
      "text/plain": [
       "Node(data=5, grad=0)"
      ]
     },
     "execution_count": 8,
     "metadata": {},
     "output_type": "execute_result"
    }
   ],
   "source": [
    "2 + a"
   ]
  },
  {
   "cell_type": "code",
   "execution_count": 7,
   "id": "f5c4d60c",
   "metadata": {},
   "outputs": [
    {
     "data": {
      "image/svg+xml": [
       "<?xml version=\"1.0\" encoding=\"UTF-8\" standalone=\"no\"?>\n",
       "<!DOCTYPE svg PUBLIC \"-//W3C//DTD SVG 1.1//EN\"\n",
       " \"http://www.w3.org/Graphics/SVG/1.1/DTD/svg11.dtd\">\n",
       "<!-- Generated by graphviz version 11.0.0 (20240428.1522)\n",
       " -->\n",
       "<!-- Pages: 1 -->\n",
       "<svg width=\"463pt\" height=\"100pt\"\n",
       " viewBox=\"0.00 0.00 462.75 100.00\" xmlns=\"http://www.w3.org/2000/svg\" xmlns:xlink=\"http://www.w3.org/1999/xlink\">\n",
       "<g id=\"graph0\" class=\"graph\" transform=\"scale(1 1) rotate(0) translate(4 96)\">\n",
       "<polygon fill=\"white\" stroke=\"none\" points=\"-4,4 -4,-96 458.75,-96 458.75,4 -4,4\"/>\n",
       "<!-- 6250229632 -->\n",
       "<g id=\"node1\" class=\"node\">\n",
       "<title>6250229632</title>\n",
       "<polygon fill=\"none\" stroke=\"black\" points=\"0,-55.5 0,-91.5 161,-91.5 161,-55.5 0,-55.5\"/>\n",
       "<text text-anchor=\"middle\" x=\"39.88\" y=\"-68.7\" font-family=\"Times,serif\" font-size=\"14.00\">data 4.0000</text>\n",
       "<polyline fill=\"none\" stroke=\"black\" points=\"79.75,-56 79.75,-91.5\"/>\n",
       "<text text-anchor=\"middle\" x=\"120.38\" y=\"-68.7\" font-family=\"Times,serif\" font-size=\"14.00\">grad 0.0000</text>\n",
       "</g>\n",
       "<!-- 6250228288* -->\n",
       "<g id=\"node4\" class=\"node\">\n",
       "<title>6250228288*</title>\n",
       "<ellipse fill=\"none\" stroke=\"black\" cx=\"224\" cy=\"-45.5\" rx=\"27\" ry=\"18\"/>\n",
       "<text text-anchor=\"middle\" x=\"224\" y=\"-40.45\" font-family=\"Times,serif\" font-size=\"14.00\">*</text>\n",
       "</g>\n",
       "<!-- 6250229632&#45;&gt;6250228288* -->\n",
       "<g id=\"edge2\" class=\"edge\">\n",
       "<title>6250229632&#45;&gt;6250228288*</title>\n",
       "<path fill=\"none\" stroke=\"black\" d=\"M161.35,-57.7C170.09,-55.97 178.64,-54.28 186.46,-52.73\"/>\n",
       "<polygon fill=\"black\" stroke=\"black\" points=\"187.08,-56.18 196.21,-50.8 185.72,-49.31 187.08,-56.18\"/>\n",
       "</g>\n",
       "<!-- 6250232464 -->\n",
       "<g id=\"node2\" class=\"node\">\n",
       "<title>6250232464</title>\n",
       "<polygon fill=\"none\" stroke=\"black\" points=\"0,-0.5 0,-36.5 161,-36.5 161,-0.5 0,-0.5\"/>\n",
       "<text text-anchor=\"middle\" x=\"39.88\" y=\"-13.7\" font-family=\"Times,serif\" font-size=\"14.00\">data 3.0000</text>\n",
       "<polyline fill=\"none\" stroke=\"black\" points=\"79.75,-1 79.75,-36.5\"/>\n",
       "<text text-anchor=\"middle\" x=\"120.38\" y=\"-13.7\" font-family=\"Times,serif\" font-size=\"14.00\">grad 0.0000</text>\n",
       "</g>\n",
       "<!-- 6250232464&#45;&gt;6250228288* -->\n",
       "<g id=\"edge3\" class=\"edge\">\n",
       "<title>6250232464&#45;&gt;6250228288*</title>\n",
       "<path fill=\"none\" stroke=\"black\" d=\"M161.35,-33.74C170.09,-35.4 178.64,-37.04 186.46,-38.53\"/>\n",
       "<polygon fill=\"black\" stroke=\"black\" points=\"185.73,-41.95 196.21,-40.39 187.04,-35.08 185.73,-41.95\"/>\n",
       "</g>\n",
       "<!-- 6250228288 -->\n",
       "<g id=\"node3\" class=\"node\">\n",
       "<title>6250228288</title>\n",
       "<polygon fill=\"none\" stroke=\"black\" points=\"287,-27.5 287,-63.5 454.75,-63.5 454.75,-27.5 287,-27.5\"/>\n",
       "<text text-anchor=\"middle\" x=\"330.25\" y=\"-40.7\" font-family=\"Times,serif\" font-size=\"14.00\">data 12.0000</text>\n",
       "<polyline fill=\"none\" stroke=\"black\" points=\"373.5,-28 373.5,-63.5\"/>\n",
       "<text text-anchor=\"middle\" x=\"414.12\" y=\"-40.7\" font-family=\"Times,serif\" font-size=\"14.00\">grad 0.0000</text>\n",
       "</g>\n",
       "<!-- 6250228288*&#45;&gt;6250228288 -->\n",
       "<g id=\"edge1\" class=\"edge\">\n",
       "<title>6250228288*&#45;&gt;6250228288</title>\n",
       "<path fill=\"none\" stroke=\"black\" d=\"M251.24,-45.5C258.46,-45.5 266.74,-45.5 275.48,-45.5\"/>\n",
       "<polygon fill=\"black\" stroke=\"black\" points=\"275.26,-49 285.26,-45.5 275.26,-42 275.26,-49\"/>\n",
       "</g>\n",
       "</g>\n",
       "</svg>\n"
      ],
      "text/plain": [
       "<graphviz.graphs.Digraph at 0x1748ae9b0>"
      ]
     },
     "execution_count": 7,
     "metadata": {},
     "output_type": "execute_result"
    }
   ],
   "source": [
    "a = Node(3)\n",
    "b = Node(4)\n",
    "\n",
    "c = a*b\n",
    "c.draw_dot()"
   ]
  },
  {
   "cell_type": "code",
   "execution_count": 12,
   "id": "4f659c85",
   "metadata": {},
   "outputs": [
    {
     "name": "stdout",
     "output_type": "stream",
     "text": [
      "Node(data=3, grad=0)\n",
      "Node(data=4, grad=0)\n",
      "Node(data=12, grad=0)\n",
      "Node(data=12, grad=1)\n",
      "Node(data=4, grad=3)\n",
      "Node(data=3, grad=4)\n"
     ]
    }
   ],
   "source": [
    "c.backward()"
   ]
  },
  {
   "cell_type": "code",
   "execution_count": 9,
   "id": "5c9ec7e2",
   "metadata": {},
   "outputs": [
    {
     "data": {
      "image/svg+xml": [
       "<?xml version=\"1.0\" encoding=\"UTF-8\" standalone=\"no\"?>\n",
       "<!DOCTYPE svg PUBLIC \"-//W3C//DTD SVG 1.1//EN\"\n",
       " \"http://www.w3.org/Graphics/SVG/1.1/DTD/svg11.dtd\">\n",
       "<!-- Generated by graphviz version 11.0.0 (20240428.1522)\n",
       " -->\n",
       "<!-- Pages: 1 -->\n",
       "<svg width=\"463pt\" height=\"100pt\"\n",
       " viewBox=\"0.00 0.00 462.75 100.00\" xmlns=\"http://www.w3.org/2000/svg\" xmlns:xlink=\"http://www.w3.org/1999/xlink\">\n",
       "<g id=\"graph0\" class=\"graph\" transform=\"scale(1 1) rotate(0) translate(4 96)\">\n",
       "<polygon fill=\"white\" stroke=\"none\" points=\"-4,4 -4,-96 458.75,-96 458.75,4 -4,4\"/>\n",
       "<!-- 6250229632 -->\n",
       "<g id=\"node1\" class=\"node\">\n",
       "<title>6250229632</title>\n",
       "<polygon fill=\"none\" stroke=\"black\" points=\"0,-55.5 0,-91.5 161,-91.5 161,-55.5 0,-55.5\"/>\n",
       "<text text-anchor=\"middle\" x=\"39.88\" y=\"-68.7\" font-family=\"Times,serif\" font-size=\"14.00\">data 4.0000</text>\n",
       "<polyline fill=\"none\" stroke=\"black\" points=\"79.75,-56 79.75,-91.5\"/>\n",
       "<text text-anchor=\"middle\" x=\"120.38\" y=\"-68.7\" font-family=\"Times,serif\" font-size=\"14.00\">grad 0.0000</text>\n",
       "</g>\n",
       "<!-- 6250228288* -->\n",
       "<g id=\"node4\" class=\"node\">\n",
       "<title>6250228288*</title>\n",
       "<ellipse fill=\"none\" stroke=\"black\" cx=\"224\" cy=\"-45.5\" rx=\"27\" ry=\"18\"/>\n",
       "<text text-anchor=\"middle\" x=\"224\" y=\"-40.45\" font-family=\"Times,serif\" font-size=\"14.00\">*</text>\n",
       "</g>\n",
       "<!-- 6250229632&#45;&gt;6250228288* -->\n",
       "<g id=\"edge2\" class=\"edge\">\n",
       "<title>6250229632&#45;&gt;6250228288*</title>\n",
       "<path fill=\"none\" stroke=\"black\" d=\"M161.35,-57.7C170.09,-55.97 178.64,-54.28 186.46,-52.73\"/>\n",
       "<polygon fill=\"black\" stroke=\"black\" points=\"187.08,-56.18 196.21,-50.8 185.72,-49.31 187.08,-56.18\"/>\n",
       "</g>\n",
       "<!-- 6250232464 -->\n",
       "<g id=\"node2\" class=\"node\">\n",
       "<title>6250232464</title>\n",
       "<polygon fill=\"none\" stroke=\"black\" points=\"0,-0.5 0,-36.5 161,-36.5 161,-0.5 0,-0.5\"/>\n",
       "<text text-anchor=\"middle\" x=\"39.88\" y=\"-13.7\" font-family=\"Times,serif\" font-size=\"14.00\">data 3.0000</text>\n",
       "<polyline fill=\"none\" stroke=\"black\" points=\"79.75,-1 79.75,-36.5\"/>\n",
       "<text text-anchor=\"middle\" x=\"120.38\" y=\"-13.7\" font-family=\"Times,serif\" font-size=\"14.00\">grad 0.0000</text>\n",
       "</g>\n",
       "<!-- 6250232464&#45;&gt;6250228288* -->\n",
       "<g id=\"edge3\" class=\"edge\">\n",
       "<title>6250232464&#45;&gt;6250228288*</title>\n",
       "<path fill=\"none\" stroke=\"black\" d=\"M161.35,-33.74C170.09,-35.4 178.64,-37.04 186.46,-38.53\"/>\n",
       "<polygon fill=\"black\" stroke=\"black\" points=\"185.73,-41.95 196.21,-40.39 187.04,-35.08 185.73,-41.95\"/>\n",
       "</g>\n",
       "<!-- 6250228288 -->\n",
       "<g id=\"node3\" class=\"node\">\n",
       "<title>6250228288</title>\n",
       "<polygon fill=\"none\" stroke=\"black\" points=\"287,-27.5 287,-63.5 454.75,-63.5 454.75,-27.5 287,-27.5\"/>\n",
       "<text text-anchor=\"middle\" x=\"330.25\" y=\"-40.7\" font-family=\"Times,serif\" font-size=\"14.00\">data 12.0000</text>\n",
       "<polyline fill=\"none\" stroke=\"black\" points=\"373.5,-28 373.5,-63.5\"/>\n",
       "<text text-anchor=\"middle\" x=\"414.12\" y=\"-40.7\" font-family=\"Times,serif\" font-size=\"14.00\">grad 0.0000</text>\n",
       "</g>\n",
       "<!-- 6250228288*&#45;&gt;6250228288 -->\n",
       "<g id=\"edge1\" class=\"edge\">\n",
       "<title>6250228288*&#45;&gt;6250228288</title>\n",
       "<path fill=\"none\" stroke=\"black\" d=\"M251.24,-45.5C258.46,-45.5 266.74,-45.5 275.48,-45.5\"/>\n",
       "<polygon fill=\"black\" stroke=\"black\" points=\"275.26,-49 285.26,-45.5 275.26,-42 275.26,-49\"/>\n",
       "</g>\n",
       "</g>\n",
       "</svg>\n"
      ],
      "text/plain": [
       "<graphviz.graphs.Digraph at 0x1748af670>"
      ]
     },
     "execution_count": 9,
     "metadata": {},
     "output_type": "execute_result"
    }
   ],
   "source": [
    "c.draw_dot()"
   ]
  },
  {
   "cell_type": "code",
   "execution_count": 14,
   "id": "3569cd5c",
   "metadata": {},
   "outputs": [
    {
     "data": {
      "image/svg+xml": [
       "<?xml version=\"1.0\" encoding=\"UTF-8\" standalone=\"no\"?>\n",
       "<!DOCTYPE svg PUBLIC \"-//W3C//DTD SVG 1.1//EN\"\n",
       " \"http://www.w3.org/Graphics/SVG/1.1/DTD/svg11.dtd\">\n",
       "<!-- Generated by graphviz version 11.0.0 (20240428.1522)\n",
       " -->\n",
       "<!-- Pages: 1 -->\n",
       "<svg width=\"456pt\" height=\"100pt\"\n",
       " viewBox=\"0.00 0.00 456.00 100.00\" xmlns=\"http://www.w3.org/2000/svg\" xmlns:xlink=\"http://www.w3.org/1999/xlink\">\n",
       "<g id=\"graph0\" class=\"graph\" transform=\"scale(1 1) rotate(0) translate(4 96)\">\n",
       "<polygon fill=\"white\" stroke=\"none\" points=\"-4,4 -4,-96 452,-96 452,4 -4,4\"/>\n",
       "<!-- 13265228496 -->\n",
       "<g id=\"node1\" class=\"node\">\n",
       "<title>13265228496</title>\n",
       "<polygon fill=\"none\" stroke=\"black\" points=\"0,-55.5 0,-91.5 161,-91.5 161,-55.5 0,-55.5\"/>\n",
       "<text text-anchor=\"middle\" x=\"39.88\" y=\"-68.7\" font-family=\"Times,serif\" font-size=\"14.00\">data 3.0000</text>\n",
       "<polyline fill=\"none\" stroke=\"black\" points=\"79.75,-56 79.75,-91.5\"/>\n",
       "<text text-anchor=\"middle\" x=\"120.38\" y=\"-68.7\" font-family=\"Times,serif\" font-size=\"14.00\">grad 4.0000</text>\n",
       "</g>\n",
       "<!-- 13265231712+ -->\n",
       "<g id=\"node3\" class=\"node\">\n",
       "<title>13265231712+</title>\n",
       "<ellipse fill=\"none\" stroke=\"black\" cx=\"224\" cy=\"-45.5\" rx=\"27\" ry=\"18\"/>\n",
       "<text text-anchor=\"middle\" x=\"224\" y=\"-40.45\" font-family=\"Times,serif\" font-size=\"14.00\">+</text>\n",
       "</g>\n",
       "<!-- 13265228496&#45;&gt;13265231712+ -->\n",
       "<g id=\"edge3\" class=\"edge\">\n",
       "<title>13265228496&#45;&gt;13265231712+</title>\n",
       "<path fill=\"none\" stroke=\"black\" d=\"M161.35,-57.7C170.09,-55.97 178.64,-54.28 186.46,-52.73\"/>\n",
       "<polygon fill=\"black\" stroke=\"black\" points=\"187.08,-56.18 196.21,-50.8 185.72,-49.31 187.08,-56.18\"/>\n",
       "</g>\n",
       "<!-- 13265231712 -->\n",
       "<g id=\"node2\" class=\"node\">\n",
       "<title>13265231712</title>\n",
       "<polygon fill=\"none\" stroke=\"black\" points=\"287,-27.5 287,-63.5 448,-63.5 448,-27.5 287,-27.5\"/>\n",
       "<text text-anchor=\"middle\" x=\"326.88\" y=\"-40.7\" font-family=\"Times,serif\" font-size=\"14.00\">data 7.0000</text>\n",
       "<polyline fill=\"none\" stroke=\"black\" points=\"366.75,-28 366.75,-63.5\"/>\n",
       "<text text-anchor=\"middle\" x=\"407.38\" y=\"-40.7\" font-family=\"Times,serif\" font-size=\"14.00\">grad 0.0000</text>\n",
       "</g>\n",
       "<!-- 13265231712+&#45;&gt;13265231712 -->\n",
       "<g id=\"edge1\" class=\"edge\">\n",
       "<title>13265231712+&#45;&gt;13265231712</title>\n",
       "<path fill=\"none\" stroke=\"black\" d=\"M251.28,-45.5C258.4,-45.5 266.52,-45.5 275.08,-45.5\"/>\n",
       "<polygon fill=\"black\" stroke=\"black\" points=\"275.04,-49 285.04,-45.5 275.04,-42 275.04,-49\"/>\n",
       "</g>\n",
       "<!-- 13265223792 -->\n",
       "<g id=\"node4\" class=\"node\">\n",
       "<title>13265223792</title>\n",
       "<polygon fill=\"none\" stroke=\"black\" points=\"0,-0.5 0,-36.5 161,-36.5 161,-0.5 0,-0.5\"/>\n",
       "<text text-anchor=\"middle\" x=\"39.88\" y=\"-13.7\" font-family=\"Times,serif\" font-size=\"14.00\">data 4.0000</text>\n",
       "<polyline fill=\"none\" stroke=\"black\" points=\"79.75,-1 79.75,-36.5\"/>\n",
       "<text text-anchor=\"middle\" x=\"120.38\" y=\"-13.7\" font-family=\"Times,serif\" font-size=\"14.00\">grad 3.0000</text>\n",
       "</g>\n",
       "<!-- 13265223792&#45;&gt;13265231712+ -->\n",
       "<g id=\"edge2\" class=\"edge\">\n",
       "<title>13265223792&#45;&gt;13265231712+</title>\n",
       "<path fill=\"none\" stroke=\"black\" d=\"M161.35,-33.74C170.09,-35.4 178.64,-37.04 186.46,-38.53\"/>\n",
       "<polygon fill=\"black\" stroke=\"black\" points=\"185.73,-41.95 196.21,-40.39 187.04,-35.08 185.73,-41.95\"/>\n",
       "</g>\n",
       "</g>\n",
       "</svg>\n"
      ],
      "text/plain": [
       "<graphviz.graphs.Digraph at 0x316ab45e0>"
      ]
     },
     "execution_count": 14,
     "metadata": {},
     "output_type": "execute_result"
    }
   ],
   "source": [
    "d = a+b\n",
    "d.draw_dot()"
   ]
  },
  {
   "cell_type": "code",
   "execution_count": 15,
   "id": "50e6be9b",
   "metadata": {},
   "outputs": [
    {
     "name": "stdout",
     "output_type": "stream",
     "text": [
      "Node(data=3, grad=4)\n",
      "Node(data=4, grad=3)\n",
      "Node(data=7, grad=0)\n",
      "Node(data=7, grad=1)\n",
      "Node(data=4, grad=4)\n",
      "Node(data=3, grad=5)\n"
     ]
    }
   ],
   "source": [
    "d.backward()"
   ]
  },
  {
   "cell_type": "code",
   "execution_count": 16,
   "id": "a1a8eca8",
   "metadata": {},
   "outputs": [
    {
     "data": {
      "text/plain": [
       "59"
      ]
     },
     "execution_count": 16,
     "metadata": {},
     "output_type": "execute_result"
    }
   ],
   "source": [
    "def f(x):\n",
    "    return 4*(x**2) - 2*x + 3\n",
    "\n",
    "f(4)"
   ]
  },
  {
   "cell_type": "code",
   "execution_count": 17,
   "id": "b55024f9",
   "metadata": {},
   "outputs": [
    {
     "data": {
      "image/png": "[encoded data removed]",
      "text/plain": [
       "<Figure size 640x480 with 1 Axes>"
      ]
     },
     "metadata": {},
     "output_type": "display_data"
    }
   ],
   "source": [
    "xs = np.arange(-5,5,0.5)\n",
    "\n",
    "plt.plot(xs, f(xs))\n",
    "plt.show()"
   ]
  },
  {
   "cell_type": "code",
   "execution_count": 18,
   "id": "97690f3f",
   "metadata": {},
   "outputs": [
    {
     "name": "stdout",
     "output_type": "stream",
     "text": [
      "59 59.300399999999996 30.039999999999623\n"
     ]
    }
   ],
   "source": [
    "# 8x -2\n",
    "\n",
    "h=0.01\n",
    "d1 = f(4)\n",
    "d2 = f(4 +h)\n",
    "\n",
    "print(d1, d2, (d2 -d1)/ h)"
   ]
  },
  {
   "cell_type": "code",
   "execution_count": 19,
   "id": "51faed81",
   "metadata": {},
   "outputs": [
    {
     "data": {
      "image/svg+xml": [
       "<?xml version=\"1.0\" encoding=\"UTF-8\" standalone=\"no\"?>\n",
       "<!DOCTYPE svg PUBLIC \"-//W3C//DTD SVG 1.1//EN\"\n",
       " \"http://www.w3.org/Graphics/SVG/1.1/DTD/svg11.dtd\">\n",
       "<!-- Generated by graphviz version 11.0.0 (20240428.1522)\n",
       " -->\n",
       "<!-- Pages: 1 -->\n",
       "<svg width=\"456pt\" height=\"100pt\"\n",
       " viewBox=\"0.00 0.00 456.00 100.00\" xmlns=\"http://www.w3.org/2000/svg\" xmlns:xlink=\"http://www.w3.org/1999/xlink\">\n",
       "<g id=\"graph0\" class=\"graph\" transform=\"scale(1 1) rotate(0) translate(4 96)\">\n",
       "<polygon fill=\"white\" stroke=\"none\" points=\"-4,4 -4,-96 452,-96 452,4 -4,4\"/>\n",
       "<!-- 13265228496 -->\n",
       "<g id=\"node1\" class=\"node\">\n",
       "<title>13265228496</title>\n",
       "<polygon fill=\"none\" stroke=\"black\" points=\"0,-55.5 0,-91.5 161,-91.5 161,-55.5 0,-55.5\"/>\n",
       "<text text-anchor=\"middle\" x=\"39.88\" y=\"-68.7\" font-family=\"Times,serif\" font-size=\"14.00\">data 3.0000</text>\n",
       "<polyline fill=\"none\" stroke=\"black\" points=\"79.75,-56 79.75,-91.5\"/>\n",
       "<text text-anchor=\"middle\" x=\"120.38\" y=\"-68.7\" font-family=\"Times,serif\" font-size=\"14.00\">grad 5.0000</text>\n",
       "</g>\n",
       "<!-- 13265231712+ -->\n",
       "<g id=\"node3\" class=\"node\">\n",
       "<title>13265231712+</title>\n",
       "<ellipse fill=\"none\" stroke=\"black\" cx=\"224\" cy=\"-45.5\" rx=\"27\" ry=\"18\"/>\n",
       "<text text-anchor=\"middle\" x=\"224\" y=\"-40.45\" font-family=\"Times,serif\" font-size=\"14.00\">+</text>\n",
       "</g>\n",
       "<!-- 13265228496&#45;&gt;13265231712+ -->\n",
       "<g id=\"edge3\" class=\"edge\">\n",
       "<title>13265228496&#45;&gt;13265231712+</title>\n",
       "<path fill=\"none\" stroke=\"black\" d=\"M161.35,-57.7C170.09,-55.97 178.64,-54.28 186.46,-52.73\"/>\n",
       "<polygon fill=\"black\" stroke=\"black\" points=\"187.08,-56.18 196.21,-50.8 185.72,-49.31 187.08,-56.18\"/>\n",
       "</g>\n",
       "<!-- 13265231712 -->\n",
       "<g id=\"node2\" class=\"node\">\n",
       "<title>13265231712</title>\n",
       "<polygon fill=\"none\" stroke=\"black\" points=\"287,-27.5 287,-63.5 448,-63.5 448,-27.5 287,-27.5\"/>\n",
       "<text text-anchor=\"middle\" x=\"326.88\" y=\"-40.7\" font-family=\"Times,serif\" font-size=\"14.00\">data 7.0000</text>\n",
       "<polyline fill=\"none\" stroke=\"black\" points=\"366.75,-28 366.75,-63.5\"/>\n",
       "<text text-anchor=\"middle\" x=\"407.38\" y=\"-40.7\" font-family=\"Times,serif\" font-size=\"14.00\">grad 1.0000</text>\n",
       "</g>\n",
       "<!-- 13265231712+&#45;&gt;13265231712 -->\n",
       "<g id=\"edge1\" class=\"edge\">\n",
       "<title>13265231712+&#45;&gt;13265231712</title>\n",
       "<path fill=\"none\" stroke=\"black\" d=\"M251.28,-45.5C258.4,-45.5 266.52,-45.5 275.08,-45.5\"/>\n",
       "<polygon fill=\"black\" stroke=\"black\" points=\"275.04,-49 285.04,-45.5 275.04,-42 275.04,-49\"/>\n",
       "</g>\n",
       "<!-- 13265223792 -->\n",
       "<g id=\"node4\" class=\"node\">\n",
       "<title>13265223792</title>\n",
       "<polygon fill=\"none\" stroke=\"black\" points=\"0,-0.5 0,-36.5 161,-36.5 161,-0.5 0,-0.5\"/>\n",
       "<text text-anchor=\"middle\" x=\"39.88\" y=\"-13.7\" font-family=\"Times,serif\" font-size=\"14.00\">data 4.0000</text>\n",
       "<polyline fill=\"none\" stroke=\"black\" points=\"79.75,-1 79.75,-36.5\"/>\n",
       "<text text-anchor=\"middle\" x=\"120.38\" y=\"-13.7\" font-family=\"Times,serif\" font-size=\"14.00\">grad 4.0000</text>\n",
       "</g>\n",
       "<!-- 13265223792&#45;&gt;13265231712+ -->\n",
       "<g id=\"edge2\" class=\"edge\">\n",
       "<title>13265223792&#45;&gt;13265231712+</title>\n",
       "<path fill=\"none\" stroke=\"black\" d=\"M161.35,-33.74C170.09,-35.4 178.64,-37.04 186.46,-38.53\"/>\n",
       "<polygon fill=\"black\" stroke=\"black\" points=\"185.73,-41.95 196.21,-40.39 187.04,-35.08 185.73,-41.95\"/>\n",
       "</g>\n",
       "</g>\n",
       "</svg>\n"
      ],
      "text/plain": [
       "<graphviz.graphs.Digraph at 0x316ab40d0>"
      ]
     },
     "execution_count": 19,
     "metadata": {},
     "output_type": "execute_result"
    }
   ],
   "source": [
    "d.draw_dot()"
   ]
  },
  {
   "cell_type": "code",
   "execution_count": 20,
   "id": "86ecc8f2",
   "metadata": {},
   "outputs": [],
   "source": []
  },
  {
   "cell_type": "code",
   "execution_count": 10,
   "id": "124dd4ec",
   "metadata": {
    "scrolled": true
   },
   "outputs": [],
   "source": [
    "class Module:\n",
    "    def zero_grad(self):\n",
    "        for p in self.parameters():\n",
    "            p.grad = 0.0\n",
    "            \n",
    "        def parameters(self):\n",
    "            return []\n",
    "\n",
    "class Neuron(Module):\n",
    "    def __init__(self, n):\n",
    "        self.w = [Node(random.uniform(-1, 1)) for i in range(n)]\n",
    "        self.b = Node(random.uniform(-1, 1))\n",
    "        \n",
    "    def __call__(self, x):\n",
    "        act = sum(([wi * xi for wi,xi in zip(self.w, x)]), self.b)\n",
    "        out = act.tanh()\n",
    "        return out\n",
    "    \n",
    "    def parameters(self):\n",
    "        return self.w + [self.b]\n",
    "class Layer(Module):\n",
    "    def __init__(self,n_inputs, n_neurons):\n",
    "        self.neurons = [Neuron(n_inputs) for i in range(n_neurons)]\n",
    "    \n",
    "    def __call__(self, x):\n",
    "        out = [n(x) for n in self.neurons]\n",
    "        return out[0] if len(out) == 1 else out\n",
    "\n",
    "    def parameters(self):\n",
    "        return [p for n in self.neurons for p in n.parameters()]\n",
    "    \n",
    "class MLP(Module):\n",
    "    def __init__(self, n_inputs, l_layers):\n",
    "        size = [n_inputs] +l_layers\n",
    "        self.layers = [Layer(size[i] , size[i+1]) for i in range(len(l_layers))]\n",
    "        \n",
    "    def __call__(self, x):\n",
    "        outs = [l(x) for l in self.layers]\n",
    "        return outs[-1]\n",
    "\n",
    "    def parameters(self):\n",
    "        return [p for l in self.layers for p in l.parameters()]\n",
    "    "
   ]
  },
  {
   "cell_type": "code",
   "execution_count": 11,
   "id": "30434fde",
   "metadata": {},
   "outputs": [
    {
     "data": {
      "text/plain": [
       "[Node(data=0.9777247188303093, grad=0),\n",
       " Node(data=-0.6131590446897256, grad=0),\n",
       " Node(data=0.6455188423547855, grad=0),\n",
       " Node(data=0.9684794176937471, grad=0)]"
      ]
     },
     "execution_count": 11,
     "metadata": {},
     "output_type": "execute_result"
    }
   ],
   "source": [
    "n = Layer(2, 3)\n",
    "m = MLP(2, [3,3,4])\n",
    "m([2.0, 3])"
   ]
  },
  {
   "cell_type": "code",
   "execution_count": null,
   "id": "bd6bfdef",
   "metadata": {},
   "outputs": [],
   "source": []
  },
  {
   "cell_type": "markdown",
   "id": "105fe82c",
   "metadata": {},
   "source": [
    "## Testing"
   ]
  },
  {
   "cell_type": "code",
   "execution_count": 12,
   "id": "56ebef8b",
   "metadata": {},
   "outputs": [
    {
     "data": {
      "text/plain": [
       "<matplotlib.collections.PathCollection at 0x30e5207f0>"
      ]
     },
     "execution_count": 12,
     "metadata": {},
     "output_type": "execute_result"
    },
    {
     "data": {
      "image/png": "[encoded data removed]",
      "text/plain": [
       "<Figure size 500x500 with 1 Axes>"
      ]
     },
     "metadata": {},
     "output_type": "display_data"
    }
   ],
   "source": [
    "# make up a dataset\n",
    "\n",
    "from sklearn.datasets import make_moons, make_blobs\n",
    "X, y = make_moons(n_samples=100, noise=0.1)\n",
    "\n",
    "y = y*2 - 1 # make y be -1 or 1\n",
    "# visualize in 2D\n",
    "plt.figure(figsize=(5,5))\n",
    "plt.scatter(X[:,0], X[:,1], c=y, s=20, cmap='jet')"
   ]
  },
  {
   "cell_type": "code",
   "execution_count": 38,
   "id": "78e6805c",
   "metadata": {},
   "outputs": [
    {
     "name": "stdout",
     "output_type": "stream",
     "text": [
      "<__main__.MLP object at 0x310425600>\n",
      "number of parameters 6401\n"
     ]
    }
   ],
   "source": [
    "# initialize a model \n",
    "model = MLP(2, [32, 128, 16, 1]) # 2-layer neural network\n",
    "print(model)\n",
    "print(\"number of parameters\", len(model.parameters()))"
   ]
  },
  {
   "cell_type": "code",
   "execution_count": 18,
   "id": "2da4788f",
   "metadata": {},
   "outputs": [
    {
     "name": "stdout",
     "output_type": "stream",
     "text": [
      "Node(data=1.031746358700779, grad=0) 0.5\n"
     ]
    }
   ],
   "source": [
    "# loss function\n",
    "def calc_loss(batch_size=None):\n",
    "    \n",
    "    # inline DataLoader :)\n",
    "    if batch_size is None:\n",
    "        Xb, yb = X, y\n",
    "    else:\n",
    "        ri = np.random.permutation(X.shape[0])[:batch_size]\n",
    "        Xb, yb = X[ri], y[ri]\n",
    "    inputs = [list(map(Node, xrow)) for xrow in Xb]\n",
    "    \n",
    "    # forward the model to get scores\n",
    "    scores = list(map(model, inputs))\n",
    "    \n",
    "    # svm \"max-margin\" loss\n",
    "    losses = [(1 + -yi*scorei).relu() for yi, scorei in zip(yb, scores)]\n",
    "    data_loss = sum(losses) * (1.0 / len(losses))\n",
    "    # L2 regularization\n",
    "    alpha = 1e-4\n",
    "    reg_loss = alpha * sum((p*p for p in model.parameters()))\n",
    "    total_loss = data_loss + reg_loss\n",
    "    \n",
    "    # also get accuracy\n",
    "    accuracy = [(yi > 0) == (scorei.data > 0) for yi, scorei in zip(yb, scores)]\n",
    "    return total_loss, sum(accuracy) / len(accuracy)\n",
    "\n",
    "total_loss, acc = calc_loss()\n",
    "print(total_loss, acc)"
   ]
  },
  {
   "cell_type": "code",
   "execution_count": 40,
   "id": "4b574f46",
   "metadata": {
    "scrolled": true
   },
   "outputs": [
    {
     "name": "stdout",
     "output_type": "stream",
     "text": [
      "38.21934379579122\n",
      "38.17767738185983\n",
      "38.14244103221125\n",
      "38.112487582667576\n",
      "38.086906246047015\n",
      "38.0649670387881\n",
      "38.046079871180034\n",
      "38.029764027181045\n",
      "38.01562511773286\n",
      "38.00333748406624\n",
      "37.992630625324296\n",
      "37.983278632023094\n",
      "37.97509188846495\n",
      "37.96791050468368\n",
      "37.96159907875096\n",
      "37.95604249107259\n",
      "37.951142505547864\n",
      "37.94681500623693\n",
      "37.94298773803605\n",
      "37.93959844966529\n"
     ]
    }
   ],
   "source": [
    "for i in range(20):\n",
    "    # forwards pass\n",
    "    outs = list(map(model, X))\n",
    "    #outs = [model(i) for i in xs]\n",
    "    loss = sum( (yi - yh)**2 for yi,yh in zip(outs, y) )\n",
    "    #loss, _ = calc_loss()\n",
    "    print(loss.data)\n",
    "    \n",
    "    model.zero_grad()\n",
    "    # backward pass\n",
    "    loss.backward()\n",
    "    \n",
    "    #udpate weights\n",
    "    #lr = 1.0 - 0.9*i/100\n",
    "    for n in model.parameters():\n",
    "        n.data -= 0.01 * n.grad"
   ]
  },
  {
   "cell_type": "code",
   "execution_count": 24,
   "id": "c92466be",
   "metadata": {},
   "outputs": [
    {
     "data": {
      "text/plain": [
       "[Node(data=0.41300152038979876, grad=0.0),\n",
       " Node(data=0.7407384376941248, grad=0.0),\n",
       " Node(data=-0.8610651186882945, grad=0.0),\n",
       " Node(data=0.3522185896840426, grad=0.0),\n",
       " Node(data=-0.5050012448918071, grad=0.0),\n",
       " Node(data=-0.15237316042823723, grad=0.0),\n",
       " Node(data=-0.7037638996691695, grad=0.0),\n",
       " Node(data=0.6651804644732082, grad=0.0),\n",
       " Node(data=-0.11996397085779176, grad=0.0),\n",
       " Node(data=0.8299433781202121, grad=0.0),\n",
       " Node(data=-0.4880067333185212, grad=0.0),\n",
       " Node(data=-0.9940640968130581, grad=0.0),\n",
       " Node(data=0.8873719996258655, grad=0.0),\n",
       " Node(data=-0.9345164645950266, grad=0.0),\n",
       " Node(data=-0.9997108905607577, grad=0.0),\n",
       " Node(data=0.11100098907549416, grad=0.0),\n",
       " Node(data=0.5648982762318917, grad=0.0),\n",
       " Node(data=0.05957458226430856, grad=0.0),\n",
       " Node(data=-0.7659205352452185, grad=0.0),\n",
       " Node(data=0.5761957019295414, grad=0.0),\n",
       " Node(data=-0.3788403565911471, grad=0.0),\n",
       " Node(data=0.26997293218294716, grad=0.0),\n",
       " Node(data=-0.20043674609522255, grad=0.0),\n",
       " Node(data=-0.39992643905607816, grad=0.0),\n",
       " Node(data=0.6722662768486494, grad=0.0),\n",
       " Node(data=-0.6003352719991524, grad=0.0),\n",
       " Node(data=0.8090262623915074, grad=0.0),\n",
       " Node(data=-0.41183774371076365, grad=0.0),\n",
       " Node(data=0.7261841765217223, grad=0.0),\n",
       " Node(data=0.7088814732942186, grad=0.0),\n",
       " Node(data=0.5010216164095318, grad=0.0),\n",
       " Node(data=0.2554992122564721, grad=0.0),\n",
       " Node(data=-0.04141009577450472, grad=0.0),\n",
       " Node(data=-0.9753249191103084, grad=0.0),\n",
       " Node(data=0.07345369896162213, grad=0.0),\n",
       " Node(data=0.5693177068437543, grad=0.0),\n",
       " Node(data=-0.4831050783316795, grad=0.0),\n",
       " Node(data=-0.5268784524126979, grad=0.0),\n",
       " Node(data=-0.9147943893963113, grad=0.0),\n",
       " Node(data=-0.8212899223760053, grad=0.0),\n",
       " Node(data=-0.7850660028577146, grad=0.0),\n",
       " Node(data=0.7694312409794009, grad=0.0),\n",
       " Node(data=0.7701533826236191, grad=0.0),\n",
       " Node(data=-0.7684475742145052, grad=0.0),\n",
       " Node(data=-0.9963391126114511, grad=0.0),\n",
       " Node(data=0.6040671589468347, grad=0.0),\n",
       " Node(data=0.7670610255841874, grad=0.0),\n",
       " Node(data=0.48904794282263797, grad=0.0),\n",
       " Node(data=0.27224023560613153, grad=0.0),\n",
       " Node(data=0.43389415564231215, grad=0.0),\n",
       " Node(data=0.6772588852937536, grad=0.0),\n",
       " Node(data=-0.6183589858865712, grad=0.0),\n",
       " Node(data=0.47189979799312165, grad=0.0),\n",
       " Node(data=0.3587614752211088, grad=0.0),\n",
       " Node(data=-0.8507032983134479, grad=0.0),\n",
       " Node(data=0.44519460923062537, grad=0.0),\n",
       " Node(data=-0.5668448831858912, grad=0.0),\n",
       " Node(data=-0.9034804522594841, grad=0.0),\n",
       " Node(data=-0.9431188722881083, grad=0.0),\n",
       " Node(data=0.9115489544778042, grad=0.0),\n",
       " Node(data=-0.8076561952594625, grad=0.0),\n",
       " Node(data=0.6094914363386912, grad=0.0),\n",
       " Node(data=0.2238916446724124, grad=0.0),\n",
       " Node(data=0.7367168121895546, grad=0.0),\n",
       " Node(data=0.9161224523531468, grad=0.0),\n",
       " Node(data=-0.8385385198620268, grad=0.0),\n",
       " Node(data=-0.7762625513501518, grad=0.0),\n",
       " Node(data=-0.22400773966170107, grad=0.0),\n",
       " Node(data=-0.6741349814977877, grad=0.0),\n",
       " Node(data=-0.5488063736706636, grad=0.0),\n",
       " Node(data=-0.4137423248819805, grad=0.0),\n",
       " Node(data=-0.3473122626195717, grad=0.0),\n",
       " Node(data=-0.5737313400042692, grad=0.0),\n",
       " Node(data=-0.8000124121482117, grad=0.0),\n",
       " Node(data=0.04977016655478694, grad=0.0),\n",
       " Node(data=-0.9382492728169147, grad=0.0),\n",
       " Node(data=0.7366998143657613, grad=0.0),\n",
       " Node(data=-0.3910993895481658, grad=0.0),\n",
       " Node(data=-0.9581833777724831, grad=0.0),\n",
       " Node(data=-0.9819126302384067, grad=0.0),\n",
       " Node(data=0.2124889537921375, grad=0.0),\n",
       " Node(data=-0.27209207413150827, grad=0.0),\n",
       " Node(data=-0.036699837894534015, grad=0.0),\n",
       " Node(data=-0.900712197044581, grad=0.0),\n",
       " Node(data=0.4898218773268672, grad=0.0),\n",
       " Node(data=-0.26634902147312167, grad=0.0),\n",
       " Node(data=-0.7007444914590133, grad=0.0),\n",
       " Node(data=-0.9416343895320429, grad=0.0),\n",
       " Node(data=-0.7507887045809598, grad=0.0),\n",
       " Node(data=-0.4799515609542111, grad=0.0),\n",
       " Node(data=0.10269194817110194, grad=0.0),\n",
       " Node(data=-0.6615453525487534, grad=0.0),\n",
       " Node(data=0.29776110146393586, grad=0.0),\n",
       " Node(data=-0.2179386503689773, grad=0.0),\n",
       " Node(data=-0.7363321554479443, grad=0.0),\n",
       " Node(data=-0.30299652127615384, grad=0.0),\n",
       " Node(data=0.2036515509846284, grad=0.0),\n",
       " Node(data=0.5833385347800715, grad=0.0),\n",
       " Node(data=0.5340032614714962, grad=0.0),\n",
       " Node(data=0.12331518593558921, grad=0.0),\n",
       " Node(data=-0.9518748986004328, grad=0.0),\n",
       " Node(data=-0.7777978145973621, grad=0.0),\n",
       " Node(data=0.5113928329609794, grad=0.0),\n",
       " Node(data=-0.8667549444755844, grad=0.0),\n",
       " Node(data=0.15113270766106068, grad=0.0),\n",
       " Node(data=-0.9184459870437502, grad=0.0),\n",
       " Node(data=-0.4517689031287411, grad=0.0),\n",
       " Node(data=0.22677112300893, grad=0.0),\n",
       " Node(data=0.47620662660509416, grad=0.0),\n",
       " Node(data=0.10197143034326239, grad=0.0),\n",
       " Node(data=0.07099352919799728, grad=0.0),\n",
       " Node(data=-0.9933896257931929, grad=0.0),\n",
       " Node(data=0.4166457025392327, grad=0.0),\n",
       " Node(data=-0.5831705655383339, grad=0.0),\n",
       " Node(data=0.40982488367312175, grad=0.0),\n",
       " Node(data=0.9486757874682046, grad=0.0),\n",
       " Node(data=0.566016853616877, grad=0.0),\n",
       " Node(data=-0.8552324033165555, grad=0.0),\n",
       " Node(data=-0.2539389962946219, grad=0.0),\n",
       " Node(data=-0.7383667287054714, grad=0.0),\n",
       " Node(data=0.8906831412135805, grad=0.0),\n",
       " Node(data=-0.8371097806109964, grad=0.0),\n",
       " Node(data=0.9754413421779045, grad=0.0),\n",
       " Node(data=-0.37652166751551674, grad=0.0),\n",
       " Node(data=0.7391639681893598, grad=0.0),\n",
       " Node(data=0.20507706191274244, grad=0.0),\n",
       " Node(data=0.5522057232079067, grad=0.0),\n",
       " Node(data=-0.20120515150366702, grad=0.0),\n",
       " Node(data=0.919882537417001, grad=0.0),\n",
       " Node(data=-0.5219008696574541, grad=0.0),\n",
       " Node(data=0.4277608408921847, grad=0.0),\n",
       " Node(data=0.8526698657171461, grad=0.0),\n",
       " Node(data=-0.1384478634393933, grad=0.0),\n",
       " Node(data=0.7869586471500558, grad=0.0),\n",
       " Node(data=0.651101663826313, grad=0.0),\n",
       " Node(data=0.08981337102674769, grad=0.0),\n",
       " Node(data=0.36433277750504667, grad=0.0),\n",
       " Node(data=-0.9159008440070493, grad=0.0),\n",
       " Node(data=-0.22215788477408283, grad=0.0),\n",
       " Node(data=0.33831533903602784, grad=0.0),\n",
       " Node(data=-0.7406198572505172, grad=0.0),\n",
       " Node(data=-0.7639942597463316, grad=0.0),\n",
       " Node(data=0.8421975243210778, grad=0.0),\n",
       " Node(data=0.1718689967327327, grad=0.0),\n",
       " Node(data=-0.06972122719257134, grad=0.0),\n",
       " Node(data=0.12648500981699318, grad=0.0),\n",
       " Node(data=-0.5393229481280295, grad=0.0),\n",
       " Node(data=-0.32074416985347765, grad=0.0),\n",
       " Node(data=-0.7423745652850284, grad=0.0),\n",
       " Node(data=0.22978351520242657, grad=0.0),\n",
       " Node(data=0.8930280958867065, grad=0.0),\n",
       " Node(data=-0.4650091071252822, grad=0.0),\n",
       " Node(data=-0.5381612452396018, grad=0.0),\n",
       " Node(data=0.9298029526518334, grad=0.0),\n",
       " Node(data=-0.38356917164095816, grad=0.0),\n",
       " Node(data=-0.05375729042191035, grad=0.0),\n",
       " Node(data=0.05457806974978263, grad=0.0),\n",
       " Node(data=-0.9646145116664284, grad=0.0),\n",
       " Node(data=-0.8994086291678249, grad=0.0),\n",
       " Node(data=0.14796630465813543, grad=0.0),\n",
       " Node(data=0.4712493831306499, grad=0.0),\n",
       " Node(data=-0.724426539472268, grad=0.0),\n",
       " Node(data=-0.28170356982097, grad=0.0),\n",
       " Node(data=-0.5509661363628442, grad=0.0),\n",
       " Node(data=-0.6480522251510377, grad=0.0),\n",
       " Node(data=0.261873558507415, grad=0.0),\n",
       " Node(data=0.9772261661829378, grad=0.0),\n",
       " Node(data=-0.567878733763783, grad=0.0),\n",
       " Node(data=0.19790207460322828, grad=0.0),\n",
       " Node(data=-0.21399690057960408, grad=0.0),\n",
       " Node(data=-0.7577834371311476, grad=0.0),\n",
       " Node(data=-0.28255232616614023, grad=0.0),\n",
       " Node(data=-0.3705496850304655, grad=0.0),\n",
       " Node(data=-0.3447554678515652, grad=0.0),\n",
       " Node(data=0.6203182177861948, grad=0.0),\n",
       " Node(data=0.7894277821401499, grad=0.0),\n",
       " Node(data=0.9409911529813626, grad=0.0),\n",
       " Node(data=0.6333464881945172, grad=0.0),\n",
       " Node(data=-0.3616285580920784, grad=0.0),\n",
       " Node(data=0.31216297679152505, grad=0.0),\n",
       " Node(data=0.10364655918100563, grad=0.0),\n",
       " Node(data=0.8970617726054197, grad=0.0),\n",
       " Node(data=-0.04739515161726837, grad=0.0),\n",
       " Node(data=0.2033127714038383, grad=0.0),\n",
       " Node(data=0.15024362150147152, grad=0.0),\n",
       " Node(data=0.22810045704736392, grad=0.0),\n",
       " Node(data=-0.28216438547207257, grad=0.0),\n",
       " Node(data=-0.5959323477884915, grad=0.0),\n",
       " Node(data=-0.5466107598880721, grad=0.0),\n",
       " Node(data=0.27549996589262915, grad=0.0),\n",
       " Node(data=-0.6845968788179815, grad=0.0),\n",
       " Node(data=-0.7397820355009945, grad=0.0),\n",
       " Node(data=-0.5547478541150794, grad=0.0),\n",
       " Node(data=-0.6337213440462695, grad=0.0),\n",
       " Node(data=-0.3939339401361015, grad=0.0),\n",
       " Node(data=0.6498530453123772, grad=0.0),\n",
       " Node(data=-0.15546792284566213, grad=0.0),\n",
       " Node(data=0.624953667744208, grad=0.0),\n",
       " Node(data=-0.2575485736743297, grad=0.0),\n",
       " Node(data=0.46932673845778994, grad=0.0),\n",
       " Node(data=-0.07652926411548955, grad=0.0),\n",
       " Node(data=0.8284140497157668, grad=0.0),\n",
       " Node(data=-0.5085816088215513, grad=0.0),\n",
       " Node(data=-0.24105297642434098, grad=0.0),\n",
       " Node(data=-0.6840506540015929, grad=0.0),\n",
       " Node(data=-0.1962907327670529, grad=0.0),\n",
       " Node(data=-0.35435819734568286, grad=0.0),\n",
       " Node(data=-0.09140098868195201, grad=0.0),\n",
       " Node(data=-0.49930359321933704, grad=0.0),\n",
       " Node(data=-0.5747809697699067, grad=0.0),\n",
       " Node(data=0.08791977168636422, grad=0.0),\n",
       " Node(data=-0.02152879127724394, grad=0.0),\n",
       " Node(data=-0.886910100342098, grad=0.0),\n",
       " Node(data=-0.9394344487002049, grad=0.0),\n",
       " Node(data=0.5093966235931267, grad=0.0),\n",
       " Node(data=0.6221296974655703, grad=0.0),\n",
       " Node(data=-0.7830275011407637, grad=0.0),\n",
       " Node(data=0.9736042283125168, grad=0.0),\n",
       " Node(data=-0.5976507080571869, grad=0.0),\n",
       " Node(data=-0.03690265498950929, grad=0.0),\n",
       " Node(data=0.3178631058349375, grad=0.0),\n",
       " Node(data=0.9573197742517721, grad=0.0),\n",
       " Node(data=-0.11591390492636378, grad=0.0),\n",
       " Node(data=-0.8788314279523362, grad=0.0),\n",
       " Node(data=0.11589045023855338, grad=0.0),\n",
       " Node(data=0.6177984764008024, grad=0.0),\n",
       " Node(data=-0.10817386709738264, grad=0.0),\n",
       " Node(data=-0.6037945755274459, grad=0.0),\n",
       " Node(data=0.2747710387378566, grad=0.0),\n",
       " Node(data=-0.18113268456747433, grad=0.0),\n",
       " Node(data=-0.799396716014481, grad=0.0),\n",
       " Node(data=-0.1209953570533091, grad=0.0),\n",
       " Node(data=-0.3380670548222353, grad=0.0),\n",
       " Node(data=0.2640652914005943, grad=0.0),\n",
       " Node(data=-0.63232169041464, grad=0.0),\n",
       " Node(data=0.1796944075367315, grad=0.0),\n",
       " Node(data=-0.5220695247484444, grad=0.0),\n",
       " Node(data=-0.7841553477312846, grad=0.0),\n",
       " Node(data=-0.16912554794512769, grad=0.0),\n",
       " Node(data=0.6585006010541989, grad=0.0),\n",
       " Node(data=-0.5819818710897151, grad=0.0),\n",
       " Node(data=0.24291467984145654, grad=0.0),\n",
       " Node(data=-0.3855343455574487, grad=0.0),\n",
       " Node(data=-0.4258237246352634, grad=0.0),\n",
       " Node(data=0.11417576385014572, grad=0.0),\n",
       " Node(data=-0.9055328187692118, grad=0.0),\n",
       " Node(data=0.15805987187784476, grad=0.0),\n",
       " Node(data=-0.2836913045455056, grad=0.0),\n",
       " Node(data=-0.720902114214292, grad=0.0),\n",
       " Node(data=0.15549570221955755, grad=0.0),\n",
       " Node(data=0.8643825345580962, grad=0.0),\n",
       " Node(data=0.5627133695287216, grad=0.0),\n",
       " Node(data=-0.223002979762281, grad=0.0),\n",
       " Node(data=0.5166500251019059, grad=0.0),\n",
       " Node(data=0.6961338445808338, grad=0.0),\n",
       " Node(data=0.62555307911158, grad=0.0),\n",
       " Node(data=0.9523546240846124, grad=0.0),\n",
       " Node(data=-0.14553192904564316, grad=0.0),\n",
       " Node(data=0.8622919663687336, grad=0.0),\n",
       " Node(data=-0.3478866751189036, grad=0.0),\n",
       " Node(data=0.7940958671861171, grad=0.0),\n",
       " Node(data=-0.7270170503996929, grad=0.0),\n",
       " Node(data=0.7985654265379825, grad=0.0),\n",
       " Node(data=-0.11347406175287911, grad=0.0),\n",
       " Node(data=-0.06535152528934596, grad=0.0),\n",
       " Node(data=-0.46114296955025136, grad=0.0),\n",
       " Node(data=0.9954995493095222, grad=0.0),\n",
       " Node(data=0.010525437680952487, grad=0.0),\n",
       " Node(data=-0.15614120030766276, grad=0.0),\n",
       " Node(data=-0.9642503600138652, grad=0.0),\n",
       " Node(data=-0.7066806002476471, grad=0.0),\n",
       " Node(data=0.9243558837204953, grad=0.0),\n",
       " Node(data=-0.8047661965829369, grad=0.0),\n",
       " Node(data=0.8915053467027332, grad=0.0),\n",
       " Node(data=-0.6455033110911326, grad=0.0),\n",
       " Node(data=0.20585665552635457, grad=0.0),\n",
       " Node(data=0.9488720867853346, grad=0.0),\n",
       " Node(data=0.9535795500251483, grad=0.0),\n",
       " Node(data=-0.6068002068900029, grad=0.0),\n",
       " Node(data=-0.669002517914864, grad=0.0),\n",
       " Node(data=0.7892817746804763, grad=0.0),\n",
       " Node(data=0.5618781672569473, grad=0.0),\n",
       " Node(data=-0.7969697301766994, grad=0.0),\n",
       " Node(data=-0.4815181969165845, grad=0.0),\n",
       " Node(data=0.7768268440326507, grad=0.0),\n",
       " Node(data=-0.2889408053006399, grad=0.0),\n",
       " Node(data=-0.4077650587323922, grad=0.0),\n",
       " Node(data=-0.38715921144371634, grad=0.0),\n",
       " Node(data=0.0758682843294598, grad=0.0),\n",
       " Node(data=0.5129021704083112, grad=0.0),\n",
       " Node(data=0.6851998654943237, grad=0.0),\n",
       " Node(data=-0.2012073845753526, grad=0.0),\n",
       " Node(data=-0.19066548370545644, grad=0.0),\n",
       " Node(data=-0.38667438412609423, grad=0.0),\n",
       " Node(data=0.1896574349039888, grad=0.0),\n",
       " Node(data=-0.8376415847375687, grad=0.0),\n",
       " Node(data=-0.5399487792930986, grad=0.0),\n",
       " Node(data=-0.19386029752785117, grad=0.0),\n",
       " Node(data=-0.6459688259984027, grad=0.0),\n",
       " Node(data=0.13477613906124208, grad=0.0),\n",
       " Node(data=-0.8965347935879402, grad=0.0),\n",
       " Node(data=0.5043515899577748, grad=0.0),\n",
       " Node(data=0.09058177823908453, grad=0.0),\n",
       " Node(data=-0.38290636231820474, grad=0.0),\n",
       " Node(data=-0.6702823732653793, grad=0.0),\n",
       " Node(data=-0.4717113438482321, grad=0.0),\n",
       " Node(data=-0.14385838750758428, grad=0.0),\n",
       " Node(data=0.4856765228395885, grad=0.0),\n",
       " Node(data=-0.37362993362568786, grad=0.0),\n",
       " Node(data=-0.09905553843354675, grad=0.0),\n",
       " Node(data=-0.40783160512335215, grad=0.0),\n",
       " Node(data=0.6666232529000786, grad=0.0),\n",
       " Node(data=-0.33138552749464956, grad=0.0),\n",
       " Node(data=-0.4948232015465468, grad=0.0),\n",
       " Node(data=-0.5513246511694021, grad=0.0),\n",
       " Node(data=0.04218585233738614, grad=0.0),\n",
       " Node(data=-0.5140373339960718, grad=0.0),\n",
       " Node(data=-0.8181695887242795, grad=0.0),\n",
       " Node(data=-0.21828224715543132, grad=0.0),\n",
       " Node(data=-0.0015437639718327567, grad=0.0),\n",
       " Node(data=108.41868999316696, grad=-0.004631300616169131),\n",
       " Node(data=-22.86727475278724, grad=0.004753375685105199),\n",
       " Node(data=0.1606459485832772, grad=0.0),\n",
       " Node(data=0.7315562789254124, grad=0.0),\n",
       " Node(data=0.18790515441217837, grad=0.0),\n",
       " Node(data=-0.9393609286509264, grad=0.0),\n",
       " Node(data=0.9224770379101368, grad=0.0),\n",
       " Node(data=0.4934072235126403, grad=0.0),\n",
       " Node(data=-0.5124567195466434, grad=0.0),\n",
       " Node(data=-0.5108714496390372, grad=0.0),\n",
       " Node(data=0.0724957304623306, grad=0.0),\n",
       " Node(data=0.5121738088126457, grad=0.0),\n",
       " Node(data=-0.8305847314624644, grad=0.0),\n",
       " Node(data=0.9682612070932843, grad=0.0),\n",
       " Node(data=0.5829079953175629, grad=0.0),\n",
       " Node(data=-0.28819232461964495, grad=0.0),\n",
       " Node(data=87.32117371035996, grad=0.00688606962421593)]"
      ]
     },
     "execution_count": 24,
     "metadata": {},
     "output_type": "execute_result"
    }
   ],
   "source": [
    "model.parameters()"
   ]
  },
  {
   "cell_type": "code",
   "execution_count": 41,
   "id": "07e0f13b",
   "metadata": {},
   "outputs": [
    {
     "data": {
      "text/plain": [
       "(-1.7041114267794097, 2.0458885732205903)"
      ]
     },
     "execution_count": 41,
     "metadata": {},
     "output_type": "execute_result"
    },
    {
     "data": {
      "image/png": "[encoded data removed]",
      "text/plain": [
       "<Figure size 640x480 with 1 Axes>"
      ]
     },
     "metadata": {},
     "output_type": "display_data"
    }
   ],
   "source": [
    "# visualize decision boundary\n",
    "\n",
    "h = 0.25\n",
    "x_min, x_max = X[:, 0].min() - 1, X[:, 0].max() + 1\n",
    "y_min, y_max = X[:, 1].min() - 1, X[:, 1].max() + 1\n",
    "xx, yy = np.meshgrid(np.arange(x_min, x_max, h),\n",
    "                     np.arange(y_min, y_max, h))\n",
    "Xmesh = np.c_[xx.ravel(), yy.ravel()]\n",
    "inputs = [list(map(Node, xrow)) for xrow in Xmesh]\n",
    "scores = list(map(model, inputs))\n",
    "Z = np.array([s.data > 0 for s in scores])\n",
    "Z = Z.reshape(xx.shape)\n",
    "\n",
    "fig = plt.figure()\n",
    "plt.contourf(xx, yy, Z, cmap=plt.cm.Spectral, alpha=0.8)\n",
    "plt.scatter(X[:, 0], X[:, 1], c=y, s=40, cmap=plt.cm.Spectral)\n",
    "plt.xlim(xx.min(), xx.max())\n",
    "plt.ylim(yy.min(), yy.max())"
   ]
  }
 ],
 "metadata": {
  "kernelspec": {
   "display_name": "diy",
   "language": "python",
   "name": "python3"
  },
  "language_info": {
   "codemirror_mode": {
    "name": "ipython",
    "version": 3
   },
   "file_extension": ".py",
   "mimetype": "text/x-python",
   "name": "python",
   "nbconvert_exporter": "python",
   "pygments_lexer": "ipython3",
   "version": "3.12.9"
  },
  "varInspector": {
   "cols": {
    "lenName": 16,
    "lenType": 16,
    "lenVar": 40
   },
   "kernels_config": {
    "python": {
     "delete_cmd_postfix": "",
     "delete_cmd_prefix": "del ",
     "library": "var_list.py",
     "varRefreshCmd": "print(var_dic_list())"
    },
    "r": {
     "delete_cmd_postfix": ") ",
     "delete_cmd_prefix": "rm(",
     "library": "var_list.r",
     "varRefreshCmd": "cat(var_dic_list()) "
    }
   },
   "types_to_exclude": [
    "module",
    "function",
    "builtin_function_or_method",
    "instance",
    "_Feature"
   ],
   "window_display": false
  }
 },
 "nbformat": 4,
 "nbformat_minor": 5
}
