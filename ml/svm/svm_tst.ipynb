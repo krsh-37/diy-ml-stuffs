{
 "cells": [
  {
   "cell_type": "markdown",
   "id": "f125cc8e",
   "metadata": {},
   "source": [
    "### SVM \n",
    "\n",
    "> For classification, a hyperplane that best separates 2 classes with maximum margin\n",
    "\n",
    "hyperplane: $\\mathbf{w}^T \\mathbf{x} + b = 0$\n",
    "\n",
    "\n",
    "\n",
    "\n"
   ]
  }
 ],
 "metadata": {
  "language_info": {
   "name": "python"
  }
 },
 "nbformat": 4,
 "nbformat_minor": 5
}
