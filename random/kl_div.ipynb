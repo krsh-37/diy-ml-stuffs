{
 "cells": [
  {
   "cell_type": "markdown",
   "id": "6734436d",
   "metadata": {},
   "source": [
    "## KL divergence \n",
    "\n",
    "Assume we need to find the difference/ how much the probability distribution varies for the same underlying set of outcomes X.\n",
    "\n",
    "\n",
    "Lets say, we measured the probability distribution in 2 timestamp for the same set of X \n",
    "\n",
    "\n",
    "t1: P(1) = 40%, P(2) = 20%, P(3) = 40%\n",
    "t2: Q(1) = 40%, Q(2) = 40%, Q(3) = 20%\n",
    "\n",
    "for the same x from X; P -> distribution at t1, Q -> distribution at t2\n",
    "\n",
    "A simple way to calculate relative difference(P wrt Q) is to:\n",
    "\n",
    "-> P(x)/Q(x) and to get overall sense, we can average for all the x \n",
    "\n",
    "$\\frac{1}{n} \\sum_{x \\in X} \\frac{P(x)}{Q(x)}$\n",
    "\n",
    "but this is very naive way and have issues, even though P(2) and P(3) has same 20% differnce in opposite directions, the higher value skews the average.\n",
    "\n",
    "we need a function to map both to same value but in opposite direction. \n",
    "i.e if f(x) = y ; f(1/x) = -y \n",
    "\n",
    "log matches this exactly \n",
    "\n",
    "so lets fix our formula by, \n",
    "\n",
    "$\\frac{1}{n} \\sum_{x \\in X} \\log \\frac{P(x)}{Q(x)}$\n",
    "\n",
    "we have one final thing to make it better, \n",
    "\n",
    "now, we are weighing all the observations with same weightage, but the changes in higher probabilites needs to be weighted rather than smaller changes just like expectation calculation of a distribution.\n",
    "thats why we instead of equal weightage 1/n , we need to use P(x) \n",
    "\n",
    "so our final form becomes\n",
    "\n",
    "\n",
    "$\\sum_{x \\in X} P(x) \\log \\frac{P(x)}{Q(x)}$\n",
    "\n",
    "\n",
    "And that is infact our KL divergence formula for discrete function\n",
    "\n",
    "$D_{\\mathrm{KL}}(P \\| Q) = \\sum_{x \\in X} P(x) \\log \\frac{P(x)}{Q(x)}$\n",
    "\n",
    "and for continuos, it is intergal over change of x\n",
    "\n",
    "$D_{\\mathrm{KL}}(P \\| Q) = \\int_{-\\infty}^{\\infty} p(x) \\log \\frac{p(x)}{q(x)} \\, dx$\n"
   ]
  }
 ],
 "metadata": {
  "language_info": {
   "name": "python"
  }
 },
 "nbformat": 4,
 "nbformat_minor": 5
}
